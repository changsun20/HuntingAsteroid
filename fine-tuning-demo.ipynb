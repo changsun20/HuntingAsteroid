{
 "cells": [
  {
   "cell_type": "code",
   "execution_count": null,
   "metadata": {},
   "outputs": [],
   "source": [
    "import torch\n",
    "import torchvision\n",
    "from torch.utils.data import Dataset, DataLoader\n",
    "from torchvision import transforms\n",
    "import numpy as np\n",
    "import os\n",
    "import matplotlib.pyplot as plt\n",
    "from PIL import Image"
   ]
  },
  {
   "cell_type": "code",
   "execution_count": null,
   "metadata": {},
   "outputs": [],
   "source": [
    "def delete_files(directory):\n",
    "    # 获取目录下的所有文件和子目录\n",
    "    files = os.listdir(directory)\n",
    "    \n",
    "    for file in files:\n",
    "        file_path = os.path.join(directory, file)\n",
    "        \n",
    "        # 判断是否为文件\n",
    "        if os.path.isfile(file_path):\n",
    "            # 删除文件\n",
    "            os.remove(file_path)\n",
    "        elif os.path.isdir(file_path):\n",
    "            # 如果是目录，则递归调用函数删除子目录中的文件\n",
    "            delete_files(file_path)\n",
    "            # 删除空目录\n",
    "            os.rmdir(file_path)"
   ]
  },
  {
   "cell_type": "code",
   "execution_count": null,
   "metadata": {},
   "outputs": [],
   "source": [
    "def clean_up():\n",
    "    delete_files('.\\\\preprocess\\\\train\\\\positive')\n",
    "    delete_files('.\\\\preprocess\\\\train\\\\negative')\n",
    "    delete_files('.\\\\preprocess\\\\val\\\\positive')\n",
    "    delete_files('.\\\\preprocess\\\\val\\\\negative')\n",
    "    delete_files('.\\\\pic_positive')\n",
    "    delete_files('.\\\\pic_negative')"
   ]
  },
  {
   "cell_type": "code",
   "execution_count": null,
   "metadata": {},
   "outputs": [],
   "source": [
    "#clean_up()"
   ]
  },
  {
   "cell_type": "code",
   "execution_count": null,
   "metadata": {},
   "outputs": [],
   "source": [
    "class CustomDataset(Dataset):\n",
    "    def __init__(self, data_dir, transform=None):\n",
    "        self.data_dir = data_dir\n",
    "        self.transform = transform\n",
    "        self.file_list = []\n",
    "        self.labels = []\n",
    "\n",
    "        # 获取数据文件夹中的文件列表和标签\n",
    "        for label in os.listdir(data_dir):\n",
    "            label_dir = os.path.join(data_dir, label)\n",
    "            if os.path.isdir(label_dir):\n",
    "                files = os.listdir(label_dir)\n",
    "                self.file_list.extend(files)\n",
    "                self.labels.extend([label] * len(files))\n",
    "\n",
    "    def __len__(self):\n",
    "        return len(self.file_list)\n",
    "\n",
    "    def __getitem__(self, idx):\n",
    "        file_name = self.file_list[idx]\n",
    "        file_path = os.path.join(self.data_dir, self.labels[idx], file_name)\n",
    "        data = np.load(file_path)['matrix1']\n",
    "        label = self.labels[idx]\n",
    "\n",
    "        if self.transform:\n",
    "            data = self.transform(data)\n",
    "\n",
    "        print(data.shape)\n",
    "        return data, label\n",
    "\n",
    "def numpy_to_pil(sample):\n",
    "    sample = sample.squeeze()  # 去除单通道维度\n",
    "    sample = Image.fromarray(sample, mode='L')  # 指定图像模式为单通道\n",
    "    return sample\n",
    "\n",
    "data_transforms = {\n",
    "    'train': transforms.Compose([\n",
    "        transforms.Lambda(numpy_to_pil),  # 添加自定义转换函数\n",
    "        transforms.RandomResizedCrop(224),\n",
    "        transforms.RandomHorizontalFlip(),\n",
    "        transforms.ToTensor(),\n",
    "        transforms.Normalize((0.5,), (0.5,))\n",
    "    ]),\n",
    "    'val': transforms.Compose([\n",
    "        transforms.Lambda(numpy_to_pil),  # 添加自定义转换函数\n",
    "        transforms.Resize(224),\n",
    "        transforms.ToTensor(),\n",
    "        transforms.Normalize((0.5,), (0.5,))\n",
    "    ]),\n",
    "}\n",
    "\n",
    "data_dir = '.\\\\preprocess'\n",
    "\n",
    "image_datasets = {x: CustomDataset(os.path.join(data_dir, x),\n",
    "                                          data_transforms[x])\n",
    "                  for x in ['train', 'val']}\n",
    "dataloaders = {x: torch.utils.data.DataLoader(image_datasets[x], batch_size=4,\n",
    "                                             shuffle=True, num_workers=0)\n",
    "              for x in ['train', 'val']}\n",
    "dataset_sizes = {x: len(image_datasets[x]) for x in ['train', 'val']}\n",
    "\n",
    "class_names = ['positive', 'negative']  # 如果您的数据集有类别标签，可以在这里添加类别名\n",
    "\n",
    "device = torch.device(\"cuda:0\" if torch.cuda.is_available() else \"cpu\")"
   ]
  },
  {
   "cell_type": "code",
   "execution_count": null,
   "metadata": {},
   "outputs": [],
   "source": [
    "dataloaders['train']"
   ]
  },
  {
   "cell_type": "code",
   "execution_count": null,
   "metadata": {},
   "outputs": [],
   "source": [
    "iter_dataloader = iter(dataloaders['train'])\n",
    "print(iter_dataloader)"
   ]
  },
  {
   "cell_type": "code",
   "execution_count": null,
   "metadata": {},
   "outputs": [],
   "source": [
    "next(iter_dataloader)"
   ]
  },
  {
   "cell_type": "code",
   "execution_count": null,
   "metadata": {},
   "outputs": [],
   "source": [
    "print(class_names)"
   ]
  },
  {
   "cell_type": "code",
   "execution_count": null,
   "metadata": {},
   "outputs": [],
   "source": [
    "def imshow(inp, title=None):\n",
    "    \"\"\"Display image for Tensor.\"\"\"\n",
    "    print(inp.shape)\n",
    "    inp = inp.squeeze().numpy()\n",
    "    print(inp.shape)\n",
    "    print(inp)\n",
    "    plt.imshow(inp, cmap='gray', vmin=-0.5, vmax=0.5)  # 指定灰度色彩映射\n",
    "    plt.colorbar()\n",
    "    if title is not None:\n",
    "        plt.title(title)\n",
    "    plt.pause(0.001)  # pause a bit so that plots are updated\n",
    "\n",
    "\n",
    "# Get a batch of training data\n",
    "inputs, classes = next(iter(dataloaders['train']))\n",
    "print(inputs, classes)\n",
    "# Make a grid from batch\n",
    "out = torchvision.utils.make_grid(inputs.unsqueeze(0))  # 将输入转换为四维张量\n",
    "print(out[3])\n",
    "\n",
    "imshow(out[0], title=[x for x in classes])"
   ]
  },
  {
   "cell_type": "code",
   "execution_count": null,
   "metadata": {},
   "outputs": [],
   "source": [
    "data = np.load('.\\\\preprocess\\\\train\\\\positive\\\\')['matrix1']"
   ]
  },
  {
   "cell_type": "code",
   "execution_count": null,
   "metadata": {},
   "outputs": [],
   "source": []
  }
 ],
 "metadata": {
  "kernelspec": {
   "display_name": "pyt201gpu",
   "language": "python",
   "name": "python3"
  },
  "language_info": {
   "codemirror_mode": {
    "name": "ipython",
    "version": 3
   },
   "file_extension": ".py",
   "mimetype": "text/x-python",
   "name": "python",
   "nbconvert_exporter": "python",
   "pygments_lexer": "ipython3",
   "version": "3.9.17"
  },
  "orig_nbformat": 4
 },
 "nbformat": 4,
 "nbformat_minor": 2
}
