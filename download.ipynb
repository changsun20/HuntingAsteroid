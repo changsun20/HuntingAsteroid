{
 "cells": [
  {
   "cell_type": "code",
   "execution_count": 1,
   "id": "c1df9cb4",
   "metadata": {},
   "outputs": [],
   "source": [
    "import numpy as np\n",
    "from astropy.io import fits\n",
    "from astropy.wcs import WCS\n",
    "import matplotlib.pyplot as plt\n",
    "from astroquery.mast import Observations\n",
    "import getpass\n",
    "import os\n",
    "import shutil"
   ]
  },
  {
   "cell_type": "code",
   "execution_count": 17,
   "id": "a581fb98",
   "metadata": {},
   "outputs": [],
   "source": [
    "# read the FITS file, return the data and WCS object \n",
    "def read_fits(fileName):\n",
    "    hdulist = fits.open(fileName)\n",
    "    data = hdulist[1].data\n",
    "    wcs = WCS(hdulist[1].header)\n",
    "    hdulist.close()\n",
    "    \n",
    "    return data, wcs"
   ]
  },
  {
   "cell_type": "code",
   "execution_count": 33,
   "id": "80a0caf2",
   "metadata": {},
   "outputs": [],
   "source": [
    "# Get the parameter from each line of the tablea1.dat file\n",
    "def get_par(line, index):\n",
    "    obsID = line[8:17]\n",
    "    ra1 = float(line[103:114])\n",
    "    dec1 = float(line[115:126])\n",
    "    ra2 = float(line[127:138])\n",
    "    dec2 = float(line[139:150])\n",
    "    \n",
    "    print('{}-{}'.format(index, obsID))\n",
    "    return obsID, ra1, dec1, ra2, dec2"
   ]
  },
  {
   "cell_type": "code",
   "execution_count": 19,
   "id": "7a1a506f",
   "metadata": {},
   "outputs": [],
   "source": [
    "# Convert the position in the astronomy coordinate system to pixel position\n",
    "def convert_world2pix(path, ra1, dec1, ra2, dec2):\n",
    "    data, wcs = read_fits(path)\n",
    "\n",
    "    x1, y1 = wcs.all_world2pix(ra1, dec1, 1)\n",
    "    x2, y2 = wcs.all_world2pix(ra2, dec2, 1)\n",
    "\n",
    "    return data, x1, y1, x2, y2"
   ]
  },
  {
   "cell_type": "code",
   "execution_count": 20,
   "id": "10ea597e",
   "metadata": {},
   "outputs": [],
   "source": [
    "# Plot a draft of data, with red box pointing out the asteroid\n",
    "def plot_data(data, obsID, num, x1, y1, x2, y2):\n",
    "    plt.imshow(data, cmap='gray', vmin=0.0, vmax=0.01)\n",
    "    plt.plot([x1, x2], [y1, y1], 'r')\n",
    "    plt.plot([x1, x2], [y2, y2], 'r')\n",
    "    plt.plot([x1, x1], [y1, y2], 'r')\n",
    "    plt.plot([x2, x2], [y1, y2], 'r')\n",
    "    plt.colorbar()\n",
    "    plt.savefig('.\\pic\\{}-{}.jpg'.format(num, obsID), dpi = 300)\n",
    "    plt.clf()"
   ]
  },
  {
   "cell_type": "code",
   "execution_count": 21,
   "id": "79c13210",
   "metadata": {},
   "outputs": [],
   "source": [
    "# Connect the session to MAST API. Type in your token.\n",
    "def connect_session():\n",
    "    token = getpass.getpass('Enter your token:')\n",
    "    my_session = Observations.login(token=token)"
   ]
  },
  {
   "cell_type": "code",
   "execution_count": 22,
   "id": "c0ef59a9",
   "metadata": {},
   "outputs": [],
   "source": [
    "# Download file from MAST database\n",
    "def download_file(obsID):\n",
    "    single_obs = Observations.query_criteria(obs_id=obsID)\n",
    "    data_products = Observations.get_product_list(single_obs)\n",
    "    manifest = Observations.download_products(data_products,\n",
    "                                              obs_id = obsID,\n",
    "                                              productSubGroupDescription = 'DRC',\n",
    "                                              obs_collection = 'HST')\n",
    "    \n",
    "    # Generate the path for the FITS file\n",
    "    path = '.\\mastDownload\\HST\\{}\\{}_drc.fits'.format(obsID, obsID)\n",
    "    \n",
    "    return path"
   ]
  },
  {
   "cell_type": "code",
   "execution_count": 23,
   "id": "59ea626f",
   "metadata": {},
   "outputs": [],
   "source": [
    "# Save the data and asteroid position into a npz file\n",
    "def save_data(obsID, index, data, x1, y1, x2, y2):\n",
    "    matrix2 = np.array([x1, y1, x2, y2])\n",
    "    dataPath = '.\\data\\{}-{}'.format(index, obsID)\n",
    "    np.savez(dataPath, matrix1=data, matrix2=matrix2)\n",
    "    print('Successfully save data for {}-{}'.format(index, obsID))\n",
    "    "
   ]
  },
  {
   "cell_type": "code",
   "execution_count": 24,
   "id": "4a835061",
   "metadata": {},
   "outputs": [],
   "source": [
    "# Sometimes there may be multiple asteroids in the same FITS file,\n",
    "# so we'd love to delete the FITS file several iterations after \n",
    "# the inital download.\n",
    "class FileManager:\n",
    "    def __init__(self, capacity):\n",
    "        self.list = []\n",
    "        self.capacity = capacity\n",
    "        \n",
    "    def update_list(self, nextID):\n",
    "        self.list.append(nextID)\n",
    "        if len(self.list) <= self.capacity:\n",
    "            return 0\n",
    "        else:\n",
    "            return self.list.pop(0)\n",
    "        \n",
    "    def get_list(self):\n",
    "        print(self.list)"
   ]
  },
  {
   "cell_type": "code",
   "execution_count": 25,
   "id": "2c8aa7e5",
   "metadata": {},
   "outputs": [],
   "source": [
    "# Delete the unwanted directory, if the directory still exists\n",
    "def delete_dir(fileNameDelete):\n",
    "    directory_path = '.\\mastDownload\\HST\\{}'.format(fileNameDelete)\n",
    "    print('Preparing to delete {}'.format(directory_path))\n",
    "    \n",
    "    if os.path.exists(directory_path):\n",
    "        shutil.rmtree(directory_path)\n",
    "        print(\"{} is deleted!\".format(directory_path))\n",
    "    else:\n",
    "        print(\"Warning: {} has already been deleted\".format(directory_path))"
   ]
  },
  {
   "cell_type": "code",
   "execution_count": 26,
   "id": "037c5248",
   "metadata": {},
   "outputs": [
    {
     "name": "stdout",
     "output_type": "stream",
     "text": [
      "INFO: MAST API token accepted, welcome Chang Sun [astroquery.mast.auth]\n"
     ]
    }
   ],
   "source": [
    "connect_session()"
   ]
  },
  {
   "cell_type": "code",
   "execution_count": 34,
   "id": "70e7f972",
   "metadata": {},
   "outputs": [
    {
     "name": "stdout",
     "output_type": "stream",
     "text": [
      "18-ib7g05010\n",
      "INFO: Found cached file ./mastDownload\\HST\\ib7g05010\\ib7g05010_drc.fits with expected size 219335040. [astroquery.query]\n",
      "Successfully save data for 18-ib7g05010\n",
      "ib7g05010 finished!\n",
      "19-ib93d2010\n",
      "INFO: Found cached file ./mastDownload\\HST\\ib93d2010\\ib93d2010_drc.fits with expected size 217621440. [astroquery.query]\n",
      "Successfully save data for 19-ib93d2010\n",
      "ib93d2010 finished!\n",
      "20-ibci020f0\n",
      "INFO: Found cached file ./mastDownload\\HST\\ibci020f0\\ibci020f1_drc.fits with expected size 217310400. [astroquery.query]\n",
      "Error: No file found at obsID ibci020f0\n",
      "Error: No file found for obsID ibci020f0\n",
      "20-ibg808020\n",
      "Downloading URL https://mast.stsci.edu/api/v0.1/Download/file?uri=mast:HST/product/ibg808021_drc.fits to ./mastDownload\\HST\\ibg808020\\ibg808021_drc.fits ... [Done]\n",
      "Error: No file found at obsID ibg808020\n",
      "Error: No file found for obsID ibg808020\n",
      "20-ibg808020\n"
     ]
    }
   ],
   "source": [
    "if __name__ == '__main__':\n",
    "    with open('tablea1.dat', 'r') as file:\n",
    "        lines = file.readlines()\n",
    "    file.close()\n",
    "        \n",
    "    # Generate a FileManager object, and configure the number of FITS file\n",
    "    # you want to store at one time on your disk\n",
    "    manager = FileManager(8)\n",
    "    \n",
    "    # Configure the number of start line (which is the index for file names)\n",
    "    index = 18\n",
    "    lines = lines[index:]\n",
    "        \n",
    "    for line in lines:\n",
    "        # Get the parameter (obsID and asteroid position)\n",
    "        obsID, ra1, dec1, ra2, dec2 = get_par(line, index)\n",
    "            \n",
    "        # Download FITS file, and get the path\n",
    "        path = download_file(obsID)\n",
    "\n",
    "        # Check if the FITS file exists\n",
    "        if os.path.isfile(path) == False:\n",
    "            print('Error: No file found for obsID {}'.format(obsID))\n",
    "            continue\n",
    "            \n",
    "        # Acquire the data, and convert the coordinate system for asteroid position\n",
    "        data, x1, y1, x2, y2 = convert_world2pix(path, ra1, dec1, ra2, dec2)\n",
    "        \n",
    "        # Save the data and position to .npz file\n",
    "        save_data(obsID, index, data, x1, y1, x2, y2)\n",
    "            \n",
    "        # Plot the data and save the figure to a jpg file\n",
    "        plot_data(data, obsID, index, x1, y1, x2, y2)\n",
    "            \n",
    "        # Check which file to delete in this iteration\n",
    "        fileNameDelete = manager.update_list(obsID)\n",
    "            \n",
    "        # Delete the directory if expected\n",
    "        if fileNameDelete != 0:\n",
    "            delete_dir(fileNameDelete)\n",
    "            \n",
    "        # Increase the index by one\n",
    "        index += 1\n",
    "        \n",
    "        # Finished!\n",
    "        print('{} finished!'.format(obsID))\n",
    "        \n",
    "        # Stop the code\n",
    "        if index > 99:\n",
    "            break\n",
    "    "
   ]
  },
  {
   "cell_type": "code",
   "execution_count": 17,
   "id": "f6de11e3",
   "metadata": {},
   "outputs": [],
   "source": [
    "def load_saved_data(path):\n",
    "    data = np.load(path)\n",
    "    matrix1_loaded = data['matrix1']\n",
    "    matrix2_loaded = data['matrix2']\n",
    "    \n",
    "    return matrix1_loaded, matrix2_loaded"
   ]
  },
  {
   "cell_type": "code",
   "execution_count": 28,
   "id": "83172bd1",
   "metadata": {},
   "outputs": [
    {
     "ename": "TypeError",
     "evalue": "object of type '_io.TextIOWrapper' has no len()",
     "output_type": "error",
     "traceback": [
      "\u001b[1;31m---------------------------------------------------------------------------\u001b[0m",
      "\u001b[1;31mTypeError\u001b[0m                                 Traceback (most recent call last)",
      "Cell \u001b[1;32mIn[28], line 2\u001b[0m\n\u001b[0;32m      1\u001b[0m \u001b[39mwith\u001b[39;00m \u001b[39mopen\u001b[39m(\u001b[39m'\u001b[39m\u001b[39mtablea1.dat\u001b[39m\u001b[39m'\u001b[39m, \u001b[39m'\u001b[39m\u001b[39mr\u001b[39m\u001b[39m'\u001b[39m) \u001b[39mas\u001b[39;00m file:\n\u001b[1;32m----> 2\u001b[0m     \u001b[39mprint\u001b[39m(\u001b[39mlen\u001b[39;49m(file))\n",
      "\u001b[1;31mTypeError\u001b[0m: object of type '_io.TextIOWrapper' has no len()"
     ]
    }
   ],
   "source": [
    "with open('tablea1.dat', 'r') as file:\n",
    "    print(len(file))"
   ]
  },
  {
   "cell_type": "code",
   "execution_count": null,
   "id": "102a1cb3",
   "metadata": {},
   "outputs": [],
   "source": []
  }
 ],
 "metadata": {
  "kernelspec": {
   "display_name": "Python 3 (ipykernel)",
   "language": "python",
   "name": "python3"
  },
  "language_info": {
   "codemirror_mode": {
    "name": "ipython",
    "version": 3
   },
   "file_extension": ".py",
   "mimetype": "text/x-python",
   "name": "python",
   "nbconvert_exporter": "python",
   "pygments_lexer": "ipython3",
   "version": "3.9.17"
  }
 },
 "nbformat": 4,
 "nbformat_minor": 5
}
