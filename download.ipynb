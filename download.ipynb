{
 "cells": [
  {
   "cell_type": "code",
   "execution_count": 1,
   "id": "c1df9cb4",
   "metadata": {},
   "outputs": [],
   "source": [
    "from astropy.io import fits\n",
    "from astropy.wcs import WCS\n",
    "import matplotlib.pyplot as plt\n",
    "from astroquery.mast import Observations\n",
    "import getpass\n",
    "import os"
   ]
  },
  {
   "cell_type": "code",
   "execution_count": 2,
   "id": "a581fb98",
   "metadata": {},
   "outputs": [],
   "source": [
    "# read the FITS file, return the data and WCS object \n",
    "def read_fits(fileName):\n",
    "    hdulist = fits.open(fileName)\n",
    "    data = hdulist[1].data\n",
    "    wcs = WCS(hdulist[1].header)\n",
    "    hdulist.close()\n",
    "    \n",
    "    return data, wcs"
   ]
  },
  {
   "cell_type": "code",
   "execution_count": 3,
   "id": "80a0caf2",
   "metadata": {},
   "outputs": [],
   "source": [
    "# Get the parameter from each line of the tablea1.dat file\n",
    "def get_par(line):\n",
    "    obsID = line[8:17]\n",
    "    ra1 = float(line[103:114])\n",
    "    dec1 = float(line[115:126])\n",
    "    ra2 = float(line[127:138])\n",
    "    dec2 = float(line[139:150])\n",
    "    return obsID, ra1, dec1, ra2, dec2"
   ]
  },
  {
   "cell_type": "code",
   "execution_count": 4,
   "id": "7a1a506f",
   "metadata": {},
   "outputs": [],
   "source": [
    "# Convert the position in the astronomy coordinate system to pixel position\n",
    "def convert_world2pix(path, ra1, dec1, ra2, dec2):\n",
    "    data, wcs = read_fits(path)\n",
    "\n",
    "    x1, y1 = wcs.all_world2pix(ra1, dec1, 1)\n",
    "    x2, y2 = wcs.all_world2pix(ra2, dec2, 1)\n",
    "\n",
    "    return data, x1, y1, x2, y2"
   ]
  },
  {
   "cell_type": "code",
   "execution_count": 10,
   "id": "10ea597e",
   "metadata": {},
   "outputs": [],
   "source": [
    "# Plot a draft of data, with red box pointing out the asteroid\n",
    "def plot_data(data, obsID, num, x1, y1, x2, y2):\n",
    "    plt.imshow(data, cmap='gray', vmin=0.0, vmax=0.01)\n",
    "    plt.plot([x1, x2], [y1, y1], 'r')\n",
    "    plt.plot([x1, x2], [y2, y2], 'r')\n",
    "    plt.plot([x1, x1], [y1, y2], 'r')\n",
    "    plt.plot([x2, x2], [y1, y2], 'r')\n",
    "    plt.colorbar()\n",
    "    plt.savefig('.\\pic\\{}-{}.jpg'.format(num, obsID), dpi = 300)\n",
    "    plt.clf()"
   ]
  },
  {
   "cell_type": "code",
   "execution_count": 6,
   "id": "79c13210",
   "metadata": {},
   "outputs": [],
   "source": [
    "# Connect the session to MAST API. Type in your token.\n",
    "def connect_session():\n",
    "    token = getpass.getpass('Enter your token:')\n",
    "    my_session = Observations.login(token=token)"
   ]
  },
  {
   "cell_type": "code",
   "execution_count": 7,
   "id": "c0ef59a9",
   "metadata": {},
   "outputs": [],
   "source": [
    "# Download file from MAST database\n",
    "def download_file(obsID):\n",
    "    single_obs = Observations.query_criteria(obs_id=obsID)\n",
    "    data_products = Observations.get_product_list(single_obs)\n",
    "    manifest = Observations.download_products(data_products,\n",
    "                                              obs_id = obsID,\n",
    "                                              productSubGroupDescription = 'DRC',\n",
    "                                              obs_collection = 'HST')"
   ]
  },
  {
   "cell_type": "code",
   "execution_count": 8,
   "id": "037c5248",
   "metadata": {},
   "outputs": [
    {
     "name": "stdout",
     "output_type": "stream",
     "text": [
      "INFO: MAST API token accepted, welcome Chang Sun [astroquery.mast.auth]\n"
     ]
    }
   ],
   "source": [
    "connect_session()"
   ]
  },
  {
   "cell_type": "code",
   "execution_count": 12,
   "id": "2704e097",
   "metadata": {},
   "outputs": [
    {
     "name": "stdout",
     "output_type": "stream",
     "text": [
      "ib1901010\n",
      "INFO: Found cached file ./mastDownload\\HST\\ib1901010\\ib1901010_drc.fits with expected size 217733760. [astroquery.query]\n",
      "ib1901010 finished!\n",
      "ib2r03020\n",
      "INFO: Found cached file ./mastDownload\\HST\\ib2r03020\\ib2r03020_drc.fits with expected size 217681920. [astroquery.query]\n",
      "ib2r03020 finished!\n",
      "ib4801010\n",
      "INFO: Found cached file ./mastDownload\\HST\\ib4801010\\ib4801010_drc.fits with expected size 223871040. [astroquery.query]\n",
      "ib4801010 finished!\n",
      "ib4803010\n",
      "INFO: Found cached file ./mastDownload\\HST\\ib4803010\\ib4803010_drc.fits with expected size 223977600. [astroquery.query]\n",
      "ib4803010 finished!\n",
      "ib4803020\n",
      "Downloading URL https://mast.stsci.edu/api/v0.1/Download/file?uri=mast:HST/product/ib4803020_drc.fits to ./mastDownload\\HST\\ib4803020\\ib4803020_drc.fits ... [Done]\n",
      "ib4803020 finished!\n",
      "ib4a28010\n",
      "Downloading URL https://mast.stsci.edu/api/v0.1/Download/file?uri=mast:HST/product/ib4a28010_drc.fits to ./mastDownload\\HST\\ib4a28010\\ib4a28010_drc.fits ... [Done]\n",
      "ib4a28010 finished!\n"
     ]
    },
    {
     "data": {
      "text/plain": [
       "<Figure size 640x480 with 0 Axes>"
      ]
     },
     "metadata": {},
     "output_type": "display_data"
    }
   ],
   "source": [
    "if __name__ == '__main__':\n",
    "    with open('tablea1.dat', 'r') as file:\n",
    "        num = 1\n",
    "        for line in file:\n",
    "            obsID, ra1, dec1, ra2, dec2 = get_par(line)\n",
    "            print(obsID)\n",
    "            download_file(obsID)\n",
    "            path = '.\\mastDownload\\HST\\{}\\{}_drc.fits'.format(obsID, obsID)\n",
    "            if os.path.isfile(path) == False:\n",
    "                print('Error: No file found at obsID {}'.format(obsID))\n",
    "                continue\n",
    "            data, x1, y1, x2, y2 = convert_world2pix(path, ra1, dec1, ra2, dec2)\n",
    "            plot_data(data, obsID, num, x1, y1, x2, y2)\n",
    "            print('{} finished!'.format(obsID))\n",
    "            if num > 5:\n",
    "                break\n",
    "            num += 1\n",
    "    file.close()"
   ]
  },
  {
   "cell_type": "code",
   "execution_count": null,
   "id": "7575a289",
   "metadata": {},
   "outputs": [],
   "source": []
  }
 ],
 "metadata": {
  "kernelspec": {
   "display_name": "Python 3 (ipykernel)",
   "language": "python",
   "name": "python3"
  },
  "language_info": {
   "codemirror_mode": {
    "name": "ipython",
    "version": 3
   },
   "file_extension": ".py",
   "mimetype": "text/x-python",
   "name": "python",
   "nbconvert_exporter": "python",
   "pygments_lexer": "ipython3",
   "version": "3.9.17"
  }
 },
 "nbformat": 4,
 "nbformat_minor": 5
}
