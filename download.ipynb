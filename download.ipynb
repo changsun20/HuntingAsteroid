{
 "cells": [
  {
   "cell_type": "code",
   "execution_count": 1,
   "id": "c1df9cb4",
   "metadata": {},
   "outputs": [],
   "source": [
    "import numpy as np\n",
    "from astropy.io import fits\n",
    "from astropy.wcs import WCS\n",
    "import matplotlib.pyplot as plt\n",
    "from astroquery.mast import Observations\n",
    "import getpass\n",
    "import os\n",
    "import shutil"
   ]
  },
  {
   "cell_type": "code",
   "execution_count": 17,
   "id": "a581fb98",
   "metadata": {},
   "outputs": [],
   "source": [
    "# read the FITS file, return the data and WCS object \n",
    "def read_fits(fileName):\n",
    "    hdulist = fits.open(fileName)\n",
    "    data = hdulist[1].data\n",
    "    wcs = WCS(hdulist[1].header)\n",
    "    hdulist.close()\n",
    "    \n",
    "    return data, wcs"
   ]
  },
  {
   "cell_type": "code",
   "execution_count": 18,
   "id": "80a0caf2",
   "metadata": {},
   "outputs": [],
   "source": [
    "# Get the parameter from each line of the tablea1.dat file\n",
    "def get_par(line):\n",
    "    obsID = line[8:17]\n",
    "    ra1 = float(line[103:114])\n",
    "    dec1 = float(line[115:126])\n",
    "    ra2 = float(line[127:138])\n",
    "    dec2 = float(line[139:150])\n",
    "    \n",
    "    print(obsID)\n",
    "    return obsID, ra1, dec1, ra2, dec2"
   ]
  },
  {
   "cell_type": "code",
   "execution_count": 19,
   "id": "7a1a506f",
   "metadata": {},
   "outputs": [],
   "source": [
    "# Convert the position in the astronomy coordinate system to pixel position\n",
    "def convert_world2pix(path, ra1, dec1, ra2, dec2):\n",
    "    data, wcs = read_fits(path)\n",
    "\n",
    "    x1, y1 = wcs.all_world2pix(ra1, dec1, 1)\n",
    "    x2, y2 = wcs.all_world2pix(ra2, dec2, 1)\n",
    "\n",
    "    return data, x1, y1, x2, y2"
   ]
  },
  {
   "cell_type": "code",
   "execution_count": 20,
   "id": "10ea597e",
   "metadata": {},
   "outputs": [],
   "source": [
    "# Plot a draft of data, with red box pointing out the asteroid\n",
    "def plot_data(data, obsID, num, x1, y1, x2, y2):\n",
    "    plt.imshow(data, cmap='gray', vmin=0.0, vmax=0.01)\n",
    "    plt.plot([x1, x2], [y1, y1], 'r')\n",
    "    plt.plot([x1, x2], [y2, y2], 'r')\n",
    "    plt.plot([x1, x1], [y1, y2], 'r')\n",
    "    plt.plot([x2, x2], [y1, y2], 'r')\n",
    "    plt.colorbar()\n",
    "    plt.savefig('.\\pic\\{}-{}.jpg'.format(num, obsID), dpi = 300)\n",
    "    plt.clf()"
   ]
  },
  {
   "cell_type": "code",
   "execution_count": 21,
   "id": "79c13210",
   "metadata": {},
   "outputs": [],
   "source": [
    "# Connect the session to MAST API. Type in your token.\n",
    "def connect_session():\n",
    "    token = getpass.getpass('Enter your token:')\n",
    "    my_session = Observations.login(token=token)"
   ]
  },
  {
   "cell_type": "code",
   "execution_count": 22,
   "id": "c0ef59a9",
   "metadata": {},
   "outputs": [],
   "source": [
    "# Download file from MAST database\n",
    "def download_file(obsID):\n",
    "    single_obs = Observations.query_criteria(obs_id=obsID)\n",
    "    data_products = Observations.get_product_list(single_obs)\n",
    "    manifest = Observations.download_products(data_products,\n",
    "                                              obs_id = obsID,\n",
    "                                              productSubGroupDescription = 'DRC',\n",
    "                                              obs_collection = 'HST')\n",
    "    \n",
    "    # Generate the path for the FITS file\n",
    "    path = '.\\mastDownload\\HST\\{}\\{}_drc.fits'.format(obsID, obsID)\n",
    "    \n",
    "    return path"
   ]
  },
  {
   "cell_type": "code",
   "execution_count": 23,
   "id": "59ea626f",
   "metadata": {},
   "outputs": [],
   "source": [
    "# Save the data and asteroid position into a npz file\n",
    "def save_data(obsID, index, data, x1, y1, x2, y2):\n",
    "    matrix2 = np.array([x1, y1, x2, y2])\n",
    "    dataPath = '.\\data\\{}-{}'.format(index, obsID)\n",
    "    np.savez(dataPath, matrix1=data, matrix2=matrix2)\n",
    "    print('Successfully save data for {}-{}'.format(index, obsID))\n",
    "    "
   ]
  },
  {
   "cell_type": "code",
   "execution_count": 24,
   "id": "4a835061",
   "metadata": {},
   "outputs": [],
   "source": [
    "# Sometimes there may be multiple asteroids in the same FITS file,\n",
    "# so we'd love to delete the FITS file several iterations after \n",
    "# the inital download.\n",
    "class FileManager:\n",
    "    def __init__(self, capacity):\n",
    "        self.list = []\n",
    "        self.capacity = capacity\n",
    "        \n",
    "    def update_list(self, nextID):\n",
    "        self.list.append(nextID)\n",
    "        if len(self.list) <= self.capacity:\n",
    "            return 0\n",
    "        else:\n",
    "            return self.list.pop(0)\n",
    "        \n",
    "    def get_list(self):\n",
    "        print(self.list)"
   ]
  },
  {
   "cell_type": "code",
   "execution_count": 25,
   "id": "2c8aa7e5",
   "metadata": {},
   "outputs": [],
   "source": [
    "# Delete the unwanted directory, if the directory still exists\n",
    "def delete_dir(fileNameDelete):\n",
    "    directory_path = '.\\mastDownload\\HST\\{}'.format(fileNameDelete)\n",
    "    print('Preparing to delete {}'.format(directory_path))\n",
    "    \n",
    "    if os.path.exists(directory_path):\n",
    "        shutil.rmtree(directory_path)\n",
    "        print(\"{} is deleted!\".format(directory_path))\n",
    "    else:\n",
    "        print(\"Warning: {} has already been deleted\".format(directory_path))"
   ]
  },
  {
   "cell_type": "code",
   "execution_count": 26,
   "id": "037c5248",
   "metadata": {},
   "outputs": [
    {
     "name": "stdout",
     "output_type": "stream",
     "text": [
      "INFO: MAST API token accepted, welcome Chang Sun [astroquery.mast.auth]\n"
     ]
    }
   ],
   "source": [
    "connect_session()"
   ]
  },
  {
   "cell_type": "code",
   "execution_count": 27,
   "id": "70e7f972",
   "metadata": {},
   "outputs": [
    {
     "name": "stdout",
     "output_type": "stream",
     "text": [
      "ib1901010\n",
      "INFO: Found cached file ./mastDownload\\HST\\ib1901010\\ib1901010_drc.fits with expected size 217733760. [astroquery.query]\n",
      "Successfully save data for 0-ib1901010\n",
      "ib1901010 finished!\n",
      "ib2r03020\n",
      "INFO: Found cached file ./mastDownload\\HST\\ib2r03020\\ib2r03020_drc.fits with expected size 217681920. [astroquery.query]\n",
      "Successfully save data for 1-ib2r03020\n",
      "ib2r03020 finished!\n",
      "ib4801010\n",
      "INFO: Found cached file ./mastDownload\\HST\\ib4801010\\ib4801010_drc.fits with expected size 223871040. [astroquery.query]\n",
      "Successfully save data for 2-ib4801010\n",
      "ib4801010 finished!\n",
      "ib4803010\n",
      "INFO: Found cached file ./mastDownload\\HST\\ib4803010\\ib4803010_drc.fits with expected size 223977600. [astroquery.query]\n",
      "Successfully save data for 3-ib4803010\n",
      "ib4803010 finished!\n",
      "ib4803020\n",
      "INFO: Found cached file ./mastDownload\\HST\\ib4803020\\ib4803020_drc.fits with expected size 223873920. [astroquery.query]\n",
      "Successfully save data for 4-ib4803020\n",
      "ib4803020 finished!\n",
      "ib4a28010\n",
      "INFO: Found cached file ./mastDownload\\HST\\ib4a28010\\ib4a28010_drc.fits with expected size 217252800. [astroquery.query]\n",
      "Successfully save data for 5-ib4a28010\n",
      "ib4a28010 finished!\n",
      "ib4a28010\n",
      "INFO: Found cached file ./mastDownload\\HST\\ib4a28010\\ib4a28010_drc.fits with expected size 217252800. [astroquery.query]\n",
      "Successfully save data for 6-ib4a28010\n",
      "ib4a28010 finished!\n",
      "ib4a28010\n",
      "INFO: Found cached file ./mastDownload\\HST\\ib4a28010\\ib4a28010_drc.fits with expected size 217252800. [astroquery.query]\n",
      "Successfully save data for 7-ib4a28010\n",
      "ib4a28010 finished!\n",
      "ib4a28020\n",
      "INFO: Found cached file ./mastDownload\\HST\\ib4a28020\\ib4a28020_drc.fits with expected size 217460160. [astroquery.query]\n",
      "Successfully save data for 8-ib4a28020\n",
      "Preparing to delete .\\mastDownload\\HST\\ib1901010\n",
      ".\\mastDownload\\HST\\ib1901010 is deleted!\n",
      "ib4a28020 finished!\n",
      "ib4a28020\n",
      "INFO: Found cached file ./mastDownload\\HST\\ib4a28020\\ib4a28020_drc.fits with expected size 217460160. [astroquery.query]\n",
      "Successfully save data for 9-ib4a28020\n",
      "Preparing to delete .\\mastDownload\\HST\\ib2r03020\n",
      ".\\mastDownload\\HST\\ib2r03020 is deleted!\n",
      "ib4a28020 finished!\n",
      "ib4a28020\n",
      "INFO: Found cached file ./mastDownload\\HST\\ib4a28020\\ib4a28020_drc.fits with expected size 217460160. [astroquery.query]\n",
      "Successfully save data for 10-ib4a28020\n",
      "Preparing to delete .\\mastDownload\\HST\\ib4801010\n",
      ".\\mastDownload\\HST\\ib4801010 is deleted!\n",
      "ib4a28020 finished!\n",
      "ib5n44010\n",
      "Downloading URL https://mast.stsci.edu/api/v0.1/Download/file?uri=mast:HST/product/ib5n44010_drc.fits to ./mastDownload\\HST\\ib5n44010\\ib5n44010_drc.fits ... [Done]\n",
      "Successfully save data for 11-ib5n44010\n",
      "Preparing to delete .\\mastDownload\\HST\\ib4803010\n",
      ".\\mastDownload\\HST\\ib4803010 is deleted!\n",
      "ib5n44010 finished!\n",
      "ib5t01020\n",
      "Downloading URL https://mast.stsci.edu/api/v0.1/Download/file?uri=mast:HST/product/ib5t01020_drc.fits to ./mastDownload\\HST\\ib5t01020\\ib5t01020_drc.fits ... [Done]\n",
      "Successfully save data for 12-ib5t01020\n",
      "Preparing to delete .\\mastDownload\\HST\\ib4803020\n",
      ".\\mastDownload\\HST\\ib4803020 is deleted!\n",
      "ib5t01020 finished!\n",
      "ib5t04020\n",
      "Downloading URL https://mast.stsci.edu/api/v0.1/Download/file?uri=mast:HST/product/ib5t04020_drc.fits to ./mastDownload\\HST\\ib5t04020\\ib5t04020_drc.fits ... [Done]\n",
      "Successfully save data for 13-ib5t04020\n",
      "Preparing to delete .\\mastDownload\\HST\\ib4a28010\n",
      ".\\mastDownload\\HST\\ib4a28010 is deleted!\n",
      "ib5t04020 finished!\n",
      "ib5t11020\n",
      "Downloading URL https://mast.stsci.edu/api/v0.1/Download/file?uri=mast:HST/product/ib5t11020_drc.fits to ./mastDownload\\HST\\ib5t11020\\ib5t11020_drc.fits ... [Done]\n",
      "Successfully save data for 14-ib5t11020\n",
      "Preparing to delete .\\mastDownload\\HST\\ib4a28010\n",
      "Warning: .\\mastDownload\\HST\\ib4a28010 has already been deleted\n",
      "ib5t11020 finished!\n",
      "ib5t15020\n",
      "Downloading URL https://mast.stsci.edu/api/v0.1/Download/file?uri=mast:HST/product/ib5t15020_drc.fits to ./mastDownload\\HST\\ib5t15020\\ib5t15020_drc.fits ... [Done]\n",
      "Successfully save data for 15-ib5t15020\n",
      "Preparing to delete .\\mastDownload\\HST\\ib4a28010\n",
      "Warning: .\\mastDownload\\HST\\ib4a28010 has already been deleted\n",
      "ib5t15020 finished!\n",
      "ib6w37020\n",
      "Downloading URL https://mast.stsci.edu/api/v0.1/Download/file?uri=mast:HST/product/ib6w37020_drc.fits to ./mastDownload\\HST\\ib6w37020\\ib6w37020_drc.fits ... [Done]\n",
      "Successfully save data for 16-ib6w37020\n",
      "Preparing to delete .\\mastDownload\\HST\\ib4a28020\n",
      ".\\mastDownload\\HST\\ib4a28020 is deleted!\n",
      "ib6w37020 finished!\n",
      "ib7g05010\n",
      "Downloading URL https://mast.stsci.edu/api/v0.1/Download/file?uri=mast:HST/product/ib7g05010_drc.fits to ./mastDownload\\HST\\ib7g05010\\ib7g05010_drc.fits ... [Done]\n",
      "Successfully save data for 17-ib7g05010\n",
      "Preparing to delete .\\mastDownload\\HST\\ib4a28020\n",
      "Warning: .\\mastDownload\\HST\\ib4a28020 has already been deleted\n",
      "ib7g05010 finished!\n",
      "ib7g05010\n",
      "INFO: Found cached file ./mastDownload\\HST\\ib7g05010\\ib7g05010_drc.fits with expected size 219335040. [astroquery.query]\n",
      "Successfully save data for 18-ib7g05010\n",
      "Preparing to delete .\\mastDownload\\HST\\ib4a28020\n",
      "Warning: .\\mastDownload\\HST\\ib4a28020 has already been deleted\n",
      "ib7g05010 finished!\n",
      "ib93d2010\n",
      "Downloading URL https://mast.stsci.edu/api/v0.1/Download/file?uri=mast:HST/product/ib93d2010_drc.fits to ./mastDownload\\HST\\ib93d2010\\ib93d2010_drc.fits ... [Done]\n",
      "Successfully save data for 19-ib93d2010\n",
      "Preparing to delete .\\mastDownload\\HST\\ib5n44010\n",
      ".\\mastDownload\\HST\\ib5n44010 is deleted!\n",
      "ib93d2010 finished!\n",
      "ibci020f0\n",
      "Downloading URL https://mast.stsci.edu/api/v0.1/Download/file?uri=mast:HST/product/ibci020f1_drc.fits to ./mastDownload\\HST\\ibci020f0\\ibci020f1_drc.fits ... [Done]\n",
      "Error: No file found at obsID ibci020f0\n"
     ]
    },
    {
     "ename": "FileNotFoundError",
     "evalue": "[Errno 2] No such file or directory: '.\\\\mastDownload\\\\HST\\\\ibci020f0\\\\ibci020f0_drc.fits'",
     "output_type": "error",
     "traceback": [
      "\u001b[1;31m---------------------------------------------------------------------------\u001b[0m",
      "\u001b[1;31mFileNotFoundError\u001b[0m                         Traceback (most recent call last)",
      "Cell \u001b[1;32mIn[27], line 15\u001b[0m\n\u001b[0;32m     12\u001b[0m path \u001b[39m=\u001b[39m download_file(obsID)\n\u001b[0;32m     14\u001b[0m \u001b[39m# Acquire the data, and convert the coordinate system for asteroid position\u001b[39;00m\n\u001b[1;32m---> 15\u001b[0m data, x1, y1, x2, y2 \u001b[39m=\u001b[39m convert_world2pix(path, ra1, dec1, ra2, dec2)\n\u001b[0;32m     17\u001b[0m \u001b[39m# Save the data and position to .npz file\u001b[39;00m\n\u001b[0;32m     18\u001b[0m save_data(obsID, index, data, x1, y1, x2, y2)\n",
      "Cell \u001b[1;32mIn[19], line 3\u001b[0m, in \u001b[0;36mconvert_world2pix\u001b[1;34m(path, ra1, dec1, ra2, dec2)\u001b[0m\n\u001b[0;32m      2\u001b[0m \u001b[39mdef\u001b[39;00m \u001b[39mconvert_world2pix\u001b[39m(path, ra1, dec1, ra2, dec2):\n\u001b[1;32m----> 3\u001b[0m     data, wcs \u001b[39m=\u001b[39m read_fits(path)\n\u001b[0;32m      5\u001b[0m     x1, y1 \u001b[39m=\u001b[39m wcs\u001b[39m.\u001b[39mall_world2pix(ra1, dec1, \u001b[39m1\u001b[39m)\n\u001b[0;32m      6\u001b[0m     x2, y2 \u001b[39m=\u001b[39m wcs\u001b[39m.\u001b[39mall_world2pix(ra2, dec2, \u001b[39m1\u001b[39m)\n",
      "Cell \u001b[1;32mIn[17], line 3\u001b[0m, in \u001b[0;36mread_fits\u001b[1;34m(fileName)\u001b[0m\n\u001b[0;32m      2\u001b[0m \u001b[39mdef\u001b[39;00m \u001b[39mread_fits\u001b[39m(fileName):\n\u001b[1;32m----> 3\u001b[0m     hdulist \u001b[39m=\u001b[39m fits\u001b[39m.\u001b[39;49mopen(fileName)\n\u001b[0;32m      4\u001b[0m     data \u001b[39m=\u001b[39m hdulist[\u001b[39m1\u001b[39m]\u001b[39m.\u001b[39mdata\n\u001b[0;32m      5\u001b[0m     wcs \u001b[39m=\u001b[39m WCS(hdulist[\u001b[39m1\u001b[39m]\u001b[39m.\u001b[39mheader)\n",
      "File \u001b[1;32mc:\\Users\\Chang\\miniconda3\\envs\\pyt201gpu\\lib\\site-packages\\astropy\\io\\fits\\hdu\\hdulist.py:175\u001b[0m, in \u001b[0;36mfitsopen\u001b[1;34m(name, mode, memmap, save_backup, cache, lazy_load_hdus, ignore_missing_simple, **kwargs)\u001b[0m\n\u001b[0;32m    172\u001b[0m \u001b[39mif\u001b[39;00m \u001b[39mnot\u001b[39;00m name:\n\u001b[0;32m    173\u001b[0m     \u001b[39mraise\u001b[39;00m \u001b[39mValueError\u001b[39;00m(\u001b[39mf\u001b[39m\u001b[39m'\u001b[39m\u001b[39mEmpty filename: \u001b[39m\u001b[39m{\u001b[39;00mname\u001b[39m!r}\u001b[39;00m\u001b[39m'\u001b[39m)\n\u001b[1;32m--> 175\u001b[0m \u001b[39mreturn\u001b[39;00m HDUList\u001b[39m.\u001b[39mfromfile(name, mode, memmap, save_backup, cache,\n\u001b[0;32m    176\u001b[0m                         lazy_load_hdus, ignore_missing_simple, \u001b[39m*\u001b[39m\u001b[39m*\u001b[39mkwargs)\n",
      "File \u001b[1;32mc:\\Users\\Chang\\miniconda3\\envs\\pyt201gpu\\lib\\site-packages\\astropy\\io\\fits\\hdu\\hdulist.py:410\u001b[0m, in \u001b[0;36mHDUList.fromfile\u001b[1;34m(cls, fileobj, mode, memmap, save_backup, cache, lazy_load_hdus, ignore_missing_simple, **kwargs)\u001b[0m\n\u001b[0;32m    398\u001b[0m \u001b[39m@classmethod\u001b[39m\n\u001b[0;32m    399\u001b[0m \u001b[39mdef\u001b[39;00m \u001b[39mfromfile\u001b[39m(\u001b[39mcls\u001b[39m, fileobj, mode\u001b[39m=\u001b[39m\u001b[39mNone\u001b[39;00m, memmap\u001b[39m=\u001b[39m\u001b[39mNone\u001b[39;00m,\n\u001b[0;32m    400\u001b[0m              save_backup\u001b[39m=\u001b[39m\u001b[39mFalse\u001b[39;00m, cache\u001b[39m=\u001b[39m\u001b[39mTrue\u001b[39;00m, lazy_load_hdus\u001b[39m=\u001b[39m\u001b[39mTrue\u001b[39;00m,\n\u001b[0;32m    401\u001b[0m              ignore_missing_simple\u001b[39m=\u001b[39m\u001b[39mFalse\u001b[39;00m, \u001b[39m*\u001b[39m\u001b[39m*\u001b[39mkwargs):\n\u001b[0;32m    402\u001b[0m \u001b[39m    \u001b[39m\u001b[39m\"\"\"\u001b[39;00m\n\u001b[0;32m    403\u001b[0m \u001b[39m    Creates an `HDUList` instance from a file-like object.\u001b[39;00m\n\u001b[0;32m    404\u001b[0m \n\u001b[1;32m   (...)\u001b[0m\n\u001b[0;32m    407\u001b[0m \u001b[39m    documentation for details of the parameters accepted by this method).\u001b[39;00m\n\u001b[0;32m    408\u001b[0m \u001b[39m    \"\"\"\u001b[39;00m\n\u001b[1;32m--> 410\u001b[0m     \u001b[39mreturn\u001b[39;00m \u001b[39mcls\u001b[39m\u001b[39m.\u001b[39m_readfrom(fileobj\u001b[39m=\u001b[39mfileobj, mode\u001b[39m=\u001b[39mmode, memmap\u001b[39m=\u001b[39mmemmap,\n\u001b[0;32m    411\u001b[0m                          save_backup\u001b[39m=\u001b[39msave_backup, cache\u001b[39m=\u001b[39mcache,\n\u001b[0;32m    412\u001b[0m                          ignore_missing_simple\u001b[39m=\u001b[39mignore_missing_simple,\n\u001b[0;32m    413\u001b[0m                          lazy_load_hdus\u001b[39m=\u001b[39mlazy_load_hdus, \u001b[39m*\u001b[39m\u001b[39m*\u001b[39mkwargs)\n",
      "File \u001b[1;32mc:\\Users\\Chang\\miniconda3\\envs\\pyt201gpu\\lib\\site-packages\\astropy\\io\\fits\\hdu\\hdulist.py:1060\u001b[0m, in \u001b[0;36mHDUList._readfrom\u001b[1;34m(cls, fileobj, data, mode, memmap, cache, lazy_load_hdus, ignore_missing_simple, **kwargs)\u001b[0m\n\u001b[0;32m   1057\u001b[0m \u001b[39mif\u001b[39;00m fileobj \u001b[39mis\u001b[39;00m \u001b[39mnot\u001b[39;00m \u001b[39mNone\u001b[39;00m:\n\u001b[0;32m   1058\u001b[0m     \u001b[39mif\u001b[39;00m \u001b[39mnot\u001b[39;00m \u001b[39misinstance\u001b[39m(fileobj, _File):\n\u001b[0;32m   1059\u001b[0m         \u001b[39m# instantiate a FITS file object (ffo)\u001b[39;00m\n\u001b[1;32m-> 1060\u001b[0m         fileobj \u001b[39m=\u001b[39m _File(fileobj, mode\u001b[39m=\u001b[39;49mmode, memmap\u001b[39m=\u001b[39;49mmemmap, cache\u001b[39m=\u001b[39;49mcache)\n\u001b[0;32m   1061\u001b[0m     \u001b[39m# The Astropy mode is determined by the _File initializer if the\u001b[39;00m\n\u001b[0;32m   1062\u001b[0m     \u001b[39m# supplied mode was None\u001b[39;00m\n\u001b[0;32m   1063\u001b[0m     mode \u001b[39m=\u001b[39m fileobj\u001b[39m.\u001b[39mmode\n",
      "File \u001b[1;32mc:\\Users\\Chang\\miniconda3\\envs\\pyt201gpu\\lib\\site-packages\\astropy\\io\\fits\\file.py:170\u001b[0m, in \u001b[0;36m_File.__init__\u001b[1;34m(self, fileobj, mode, memmap, overwrite, cache)\u001b[0m\n\u001b[0;32m    168\u001b[0m     \u001b[39mself\u001b[39m\u001b[39m.\u001b[39m_open_fileobj(fileobj, mode, overwrite)\n\u001b[0;32m    169\u001b[0m \u001b[39melif\u001b[39;00m \u001b[39misinstance\u001b[39m(fileobj, (\u001b[39mstr\u001b[39m, \u001b[39mbytes\u001b[39m)):\n\u001b[1;32m--> 170\u001b[0m     \u001b[39mself\u001b[39;49m\u001b[39m.\u001b[39;49m_open_filename(fileobj, mode, overwrite)\n\u001b[0;32m    171\u001b[0m \u001b[39melse\u001b[39;00m:\n\u001b[0;32m    172\u001b[0m     \u001b[39mself\u001b[39m\u001b[39m.\u001b[39m_open_filelike(fileobj, mode, overwrite)\n",
      "File \u001b[1;32mc:\\Users\\Chang\\miniconda3\\envs\\pyt201gpu\\lib\\site-packages\\astropy\\io\\fits\\file.py:562\u001b[0m, in \u001b[0;36m_File._open_filename\u001b[1;34m(self, filename, mode, overwrite)\u001b[0m\n\u001b[0;32m    559\u001b[0m ext \u001b[39m=\u001b[39m os\u001b[39m.\u001b[39mpath\u001b[39m.\u001b[39msplitext(\u001b[39mself\u001b[39m\u001b[39m.\u001b[39mname)[\u001b[39m1\u001b[39m]\n\u001b[0;32m    561\u001b[0m \u001b[39mif\u001b[39;00m \u001b[39mnot\u001b[39;00m \u001b[39mself\u001b[39m\u001b[39m.\u001b[39m_try_read_compressed(\u001b[39mself\u001b[39m\u001b[39m.\u001b[39mname, magic, mode, ext\u001b[39m=\u001b[39mext):\n\u001b[1;32m--> 562\u001b[0m     \u001b[39mself\u001b[39m\u001b[39m.\u001b[39m_file \u001b[39m=\u001b[39m \u001b[39mopen\u001b[39;49m(\u001b[39mself\u001b[39;49m\u001b[39m.\u001b[39;49mname, IO_FITS_MODES[mode])\n\u001b[0;32m    563\u001b[0m     \u001b[39mself\u001b[39m\u001b[39m.\u001b[39mclose_on_error \u001b[39m=\u001b[39m \u001b[39mTrue\u001b[39;00m\n\u001b[0;32m    565\u001b[0m \u001b[39m# Make certain we're back at the beginning of the file\u001b[39;00m\n\u001b[0;32m    566\u001b[0m \u001b[39m# BZ2File does not support seek when the file is open for writing, but\u001b[39;00m\n\u001b[0;32m    567\u001b[0m \u001b[39m# when opening a file for write, bz2.BZ2File always truncates anyway.\u001b[39;00m\n",
      "\u001b[1;31mFileNotFoundError\u001b[0m: [Errno 2] No such file or directory: '.\\\\mastDownload\\\\HST\\\\ibci020f0\\\\ibci020f0_drc.fits'"
     ]
    },
    {
     "data": {
      "text/plain": [
       "<Figure size 640x480 with 0 Axes>"
      ]
     },
     "metadata": {},
     "output_type": "display_data"
    }
   ],
   "source": [
    "if __name__ == '__main__':\n",
    "    with open('tablea1.dat', 'r') as file:\n",
    "        # Generate a FileManager object, and configure the number of FITS file\n",
    "        # you want to store at one time on your disk\n",
    "        manager = FileManager(8)\n",
    "        \n",
    "        for index, line in enumerate(file):\n",
    "            # Get the parameter (obsID and asteroid position)\n",
    "            obsID, ra1, dec1, ra2, dec2 = get_par(line)\n",
    "            \n",
    "            # Download FITS file, and get the path\n",
    "            path = download_file(obsID)\n",
    "\n",
    "            # Check if the FITS file exists\n",
    "            if os.path.isfile(path) == False:\n",
    "                print('Error: No file found at obsID {}'.format(obsID))\n",
    "                continue\n",
    "            \n",
    "            # Acquire the data, and convert the coordinate system for asteroid position\n",
    "            data, x1, y1, x2, y2 = convert_world2pix(path, ra1, dec1, ra2, dec2)\n",
    "            \n",
    "            # Save the data and position to .npz file\n",
    "            save_data(obsID, index, data, x1, y1, x2, y2)\n",
    "            \n",
    "            # Plot the data and save the figure to a jpg file\n",
    "            plot_data(data, obsID, index, x1, y1, x2, y2)\n",
    "            \n",
    "            # Check which file to delete in this iteration\n",
    "            fileNameDelete = manager.update_list(obsID)\n",
    "            \n",
    "            # Delete the directory if expected\n",
    "            if fileNameDelete != 0:\n",
    "                delete_dir(fileNameDelete)\n",
    "            \n",
    "            # Finished!\n",
    "            print('{} finished!'.format(obsID))\n",
    "            \n",
    "            # Stop the code\n",
    "            if index > 99:\n",
    "                break\n",
    "    file.close()"
   ]
  },
  {
   "cell_type": "code",
   "execution_count": 17,
   "id": "f6de11e3",
   "metadata": {},
   "outputs": [],
   "source": [
    "def load_saved_data(path):\n",
    "    data = np.load(path)\n",
    "    matrix1_loaded = data['matrix1']\n",
    "    matrix2_loaded = data['matrix2']\n",
    "    \n",
    "    return matrix1_loaded, matrix2_loaded"
   ]
  },
  {
   "cell_type": "code",
   "execution_count": null,
   "id": "83172bd1",
   "metadata": {},
   "outputs": [],
   "source": []
  }
 ],
 "metadata": {
  "kernelspec": {
   "display_name": "Python 3 (ipykernel)",
   "language": "python",
   "name": "python3"
  },
  "language_info": {
   "codemirror_mode": {
    "name": "ipython",
    "version": 3
   },
   "file_extension": ".py",
   "mimetype": "text/x-python",
   "name": "python",
   "nbconvert_exporter": "python",
   "pygments_lexer": "ipython3",
   "version": "3.9.17"
  }
 },
 "nbformat": 4,
 "nbformat_minor": 5
}
