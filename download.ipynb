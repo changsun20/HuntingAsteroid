{
 "cells": [
  {
   "cell_type": "code",
   "execution_count": 1,
   "id": "c1df9cb4",
   "metadata": {},
   "outputs": [],
   "source": [
    "import numpy as np\n",
    "from astropy.io import fits\n",
    "from astropy.wcs import WCS\n",
    "import matplotlib.pyplot as plt\n",
    "from astroquery.mast import Observations\n",
    "import getpass\n",
    "import os\n",
    "import shutil"
   ]
  },
  {
   "cell_type": "code",
   "execution_count": 2,
   "id": "a581fb98",
   "metadata": {},
   "outputs": [],
   "source": [
    "# read the FITS file, return the data and WCS object \n",
    "def read_fits(fileName):\n",
    "    hdulist = fits.open(fileName)\n",
    "    data = hdulist[1].data\n",
    "    wcs = WCS(hdulist[1].header)\n",
    "    hdulist.close()\n",
    "    \n",
    "    return data, wcs"
   ]
  },
  {
   "cell_type": "code",
   "execution_count": 3,
   "id": "80a0caf2",
   "metadata": {},
   "outputs": [],
   "source": [
    "# Get the parameter from each line of the tablea1.dat file\n",
    "def get_par(line, index):\n",
    "    obsID = line[8:17]\n",
    "    ra1 = float(line[103:114])\n",
    "    dec1 = float(line[115:126])\n",
    "    ra2 = float(line[127:138])\n",
    "    dec2 = float(line[139:150])\n",
    "    \n",
    "    print('{}-{}'.format(index, obsID))\n",
    "    return obsID, ra1, dec1, ra2, dec2"
   ]
  },
  {
   "cell_type": "code",
   "execution_count": 4,
   "id": "7a1a506f",
   "metadata": {},
   "outputs": [],
   "source": [
    "# Convert the position in the astronomy coordinate system to pixel position\n",
    "def convert_world2pix(path, ra1, dec1, ra2, dec2):\n",
    "    data, wcs = read_fits(path)\n",
    "\n",
    "    x1, y1 = wcs.all_world2pix(ra1, dec1, 1)\n",
    "    x2, y2 = wcs.all_world2pix(ra2, dec2, 1)\n",
    "\n",
    "    return data, x1, y1, x2, y2"
   ]
  },
  {
   "cell_type": "code",
   "execution_count": 5,
   "id": "10ea597e",
   "metadata": {},
   "outputs": [],
   "source": [
    "# Plot a draft of data, with red box pointing out the asteroid\n",
    "def plot_data(data, obsID, index, x1, y1, x2, y2):\n",
    "    plt.imshow(data, cmap='gray', vmin=0.0, vmax=0.01)\n",
    "    plt.plot([x1, x2], [y1, y1], 'r')\n",
    "    plt.plot([x1, x2], [y2, y2], 'r')\n",
    "    plt.plot([x1, x1], [y1, y2], 'r')\n",
    "    plt.plot([x2, x2], [y1, y2], 'r')\n",
    "    plt.colorbar()\n",
    "    plt.savefig('.\\pic\\{}-{}.jpg'.format(index, obsID), dpi = 300)\n",
    "    plt.clf()"
   ]
  },
  {
   "cell_type": "code",
   "execution_count": 6,
   "id": "79c13210",
   "metadata": {},
   "outputs": [],
   "source": [
    "# Connect the session to MAST API. Type in your token.\n",
    "def connect_session():\n",
    "    token = getpass.getpass('Enter your token:')\n",
    "    my_session = Observations.login(token=token)"
   ]
  },
  {
   "cell_type": "code",
   "execution_count": 7,
   "id": "c0ef59a9",
   "metadata": {},
   "outputs": [],
   "source": [
    "# Download file from MAST database\n",
    "def download_file(obsID):\n",
    "    single_obs = Observations.query_criteria(obs_id=obsID)\n",
    "    data_products = Observations.get_product_list(single_obs)\n",
    "    manifest = Observations.download_products(data_products,\n",
    "                                              obs_id = obsID,\n",
    "                                              productSubGroupDescription = 'DRC',\n",
    "                                              obs_collection = 'HST')\n",
    "    \n",
    "    # Generate the path for the FITS file\n",
    "    path = '.\\mastDownload\\HST\\{}'.format(obsID)\n",
    "    return path"
   ]
  },
  {
   "cell_type": "code",
   "execution_count": 8,
   "id": "59ea626f",
   "metadata": {},
   "outputs": [],
   "source": [
    "# Save the data and asteroid position into a npz file\n",
    "def save_data(obsID, index, data, x1, y1, x2, y2):\n",
    "    matrix2 = np.array([x1, y1, x2, y2])\n",
    "    dataPath = '.\\data\\{}-{}'.format(index, obsID)\n",
    "    np.savez(dataPath, matrix1=data, matrix2=matrix2)\n",
    "    print('Successfully save data for {}-{}'.format(index, obsID))\n",
    "    "
   ]
  },
  {
   "cell_type": "code",
   "execution_count": 9,
   "id": "4a835061",
   "metadata": {},
   "outputs": [],
   "source": [
    "# Sometimes there may be multiple asteroids in the same FITS file,\n",
    "# so we'd love to delete the FITS file several iterations after \n",
    "# the inital download.\n",
    "class FileManager:\n",
    "    def __init__(self, capacity):\n",
    "        self.list = []\n",
    "        self.capacity = capacity\n",
    "        \n",
    "    def update_list(self, nextID):\n",
    "        self.list.append(nextID)\n",
    "        if len(self.list) <= self.capacity:\n",
    "            return 0\n",
    "        else:\n",
    "            return self.list.pop(0)\n",
    "        \n",
    "    def get_list(self):\n",
    "        print(self.list)"
   ]
  },
  {
   "cell_type": "code",
   "execution_count": 10,
   "id": "2c8aa7e5",
   "metadata": {},
   "outputs": [],
   "source": [
    "# Delete the unwanted directory, if the directory still exists\n",
    "def delete_dir(fileNameDelete):\n",
    "    directory_path = '.\\mastDownload\\HST\\{}'.format(fileNameDelete)\n",
    "    print('Preparing to delete {}'.format(directory_path))\n",
    "    \n",
    "    if os.path.exists(directory_path):\n",
    "        shutil.rmtree(directory_path)\n",
    "        print(\"{} is deleted!\".format(directory_path))\n",
    "    else:\n",
    "        print(\"Warning: {} has already been deleted\".format(directory_path))"
   ]
  },
  {
   "cell_type": "code",
   "execution_count": 11,
   "id": "037c5248",
   "metadata": {},
   "outputs": [
    {
     "name": "stdout",
     "output_type": "stream",
     "text": [
      "INFO: MAST API token accepted, welcome Chang Sun [astroquery.mast.auth]\n"
     ]
    }
   ],
   "source": [
    "connect_session()"
   ]
  },
  {
   "cell_type": "code",
   "execution_count": 12,
   "id": "70e7f972",
   "metadata": {},
   "outputs": [
    {
     "name": "stdout",
     "output_type": "stream",
     "text": [
      "536-j8pu2j010\n",
      "Downloading URL https://mast.stsci.edu/api/v0.1/Download/file?uri=mast:HST/product/j8pu2j010_drc.fits to ./mastDownload\\HST\\j8pu2j010\\j8pu2j010_drc.fits ... [Done]\n",
      "Successfully save data for 536-j8pu2j010\n",
      "536-j8pu2j010 finished!\n",
      "537-j8pu2m010\n",
      "Downloading URL https://mast.stsci.edu/api/v0.1/Download/file?uri=mast:HST/product/j8pu2m010_drc.fits to ./mastDownload\\HST\\j8pu2m010\\j8pu2m010_drc.fits ... [Failed]\n"
     ]
    },
    {
     "ename": "ChunkedEncodingError",
     "evalue": "(\"Connection broken: ConnectionResetError(10054, '远程主机强迫关闭了一个现有的连接。', None, 10054, None)\", ConnectionResetError(10054, '远程主机强迫关闭了一个现有的连接。', None, 10054, None))",
     "output_type": "error",
     "traceback": [
      "\u001b[1;31m---------------------------------------------------------------------------\u001b[0m",
      "\u001b[1;31mConnectionResetError\u001b[0m                      Traceback (most recent call last)",
      "File \u001b[1;32mc:\\Users\\Chang\\miniconda3\\envs\\pyt201gpu\\lib\\site-packages\\urllib3\\response.py:444\u001b[0m, in \u001b[0;36mHTTPResponse._error_catcher\u001b[1;34m(self)\u001b[0m\n\u001b[0;32m    443\u001b[0m \u001b[39mtry\u001b[39;00m:\n\u001b[1;32m--> 444\u001b[0m     \u001b[39myield\u001b[39;00m\n\u001b[0;32m    446\u001b[0m \u001b[39mexcept\u001b[39;00m SocketTimeout:\n\u001b[0;32m    447\u001b[0m     \u001b[39m# FIXME: Ideally we'd like to include the url in the ReadTimeoutError but\u001b[39;00m\n\u001b[0;32m    448\u001b[0m     \u001b[39m# there is yet no clean way to get at it from this context.\u001b[39;00m\n",
      "File \u001b[1;32mc:\\Users\\Chang\\miniconda3\\envs\\pyt201gpu\\lib\\site-packages\\urllib3\\response.py:567\u001b[0m, in \u001b[0;36mHTTPResponse.read\u001b[1;34m(self, amt, decode_content, cache_content)\u001b[0m\n\u001b[0;32m    566\u001b[0m \u001b[39mwith\u001b[39;00m \u001b[39mself\u001b[39m\u001b[39m.\u001b[39m_error_catcher():\n\u001b[1;32m--> 567\u001b[0m     data \u001b[39m=\u001b[39m \u001b[39mself\u001b[39;49m\u001b[39m.\u001b[39;49m_fp_read(amt) \u001b[39mif\u001b[39;00m \u001b[39mnot\u001b[39;00m fp_closed \u001b[39melse\u001b[39;00m \u001b[39mb\u001b[39m\u001b[39m\"\u001b[39m\u001b[39m\"\u001b[39m\n\u001b[0;32m    568\u001b[0m     \u001b[39mif\u001b[39;00m amt \u001b[39mis\u001b[39;00m \u001b[39mNone\u001b[39;00m:\n",
      "File \u001b[1;32mc:\\Users\\Chang\\miniconda3\\envs\\pyt201gpu\\lib\\site-packages\\urllib3\\response.py:533\u001b[0m, in \u001b[0;36mHTTPResponse._fp_read\u001b[1;34m(self, amt)\u001b[0m\n\u001b[0;32m    531\u001b[0m \u001b[39melse\u001b[39;00m:\n\u001b[0;32m    532\u001b[0m     \u001b[39m# StringIO doesn't like amt=None\u001b[39;00m\n\u001b[1;32m--> 533\u001b[0m     \u001b[39mreturn\u001b[39;00m \u001b[39mself\u001b[39;49m\u001b[39m.\u001b[39;49m_fp\u001b[39m.\u001b[39;49mread(amt) \u001b[39mif\u001b[39;00m amt \u001b[39mis\u001b[39;00m \u001b[39mnot\u001b[39;00m \u001b[39mNone\u001b[39;00m \u001b[39melse\u001b[39;00m \u001b[39mself\u001b[39m\u001b[39m.\u001b[39m_fp\u001b[39m.\u001b[39mread()\n",
      "File \u001b[1;32mc:\\Users\\Chang\\miniconda3\\envs\\pyt201gpu\\lib\\http\\client.py:463\u001b[0m, in \u001b[0;36mHTTPResponse.read\u001b[1;34m(self, amt)\u001b[0m\n\u001b[0;32m    462\u001b[0m b \u001b[39m=\u001b[39m \u001b[39mbytearray\u001b[39m(amt)\n\u001b[1;32m--> 463\u001b[0m n \u001b[39m=\u001b[39m \u001b[39mself\u001b[39;49m\u001b[39m.\u001b[39;49mreadinto(b)\n\u001b[0;32m    464\u001b[0m \u001b[39mreturn\u001b[39;00m \u001b[39mmemoryview\u001b[39m(b)[:n]\u001b[39m.\u001b[39mtobytes()\n",
      "File \u001b[1;32mc:\\Users\\Chang\\miniconda3\\envs\\pyt201gpu\\lib\\http\\client.py:507\u001b[0m, in \u001b[0;36mHTTPResponse.readinto\u001b[1;34m(self, b)\u001b[0m\n\u001b[0;32m    504\u001b[0m \u001b[39m# we do not use _safe_read() here because this may be a .will_close\u001b[39;00m\n\u001b[0;32m    505\u001b[0m \u001b[39m# connection, and the user is reading more bytes than will be provided\u001b[39;00m\n\u001b[0;32m    506\u001b[0m \u001b[39m# (for example, reading in 1k chunks)\u001b[39;00m\n\u001b[1;32m--> 507\u001b[0m n \u001b[39m=\u001b[39m \u001b[39mself\u001b[39;49m\u001b[39m.\u001b[39;49mfp\u001b[39m.\u001b[39;49mreadinto(b)\n\u001b[0;32m    508\u001b[0m \u001b[39mif\u001b[39;00m \u001b[39mnot\u001b[39;00m n \u001b[39mand\u001b[39;00m b:\n\u001b[0;32m    509\u001b[0m     \u001b[39m# Ideally, we would raise IncompleteRead if the content-length\u001b[39;00m\n\u001b[0;32m    510\u001b[0m     \u001b[39m# wasn't satisfied, but it might break compatibility.\u001b[39;00m\n",
      "File \u001b[1;32mc:\\Users\\Chang\\miniconda3\\envs\\pyt201gpu\\lib\\socket.py:704\u001b[0m, in \u001b[0;36mSocketIO.readinto\u001b[1;34m(self, b)\u001b[0m\n\u001b[0;32m    703\u001b[0m \u001b[39mtry\u001b[39;00m:\n\u001b[1;32m--> 704\u001b[0m     \u001b[39mreturn\u001b[39;00m \u001b[39mself\u001b[39;49m\u001b[39m.\u001b[39;49m_sock\u001b[39m.\u001b[39;49mrecv_into(b)\n\u001b[0;32m    705\u001b[0m \u001b[39mexcept\u001b[39;00m timeout:\n",
      "File \u001b[1;32mc:\\Users\\Chang\\miniconda3\\envs\\pyt201gpu\\lib\\ssl.py:1242\u001b[0m, in \u001b[0;36mSSLSocket.recv_into\u001b[1;34m(self, buffer, nbytes, flags)\u001b[0m\n\u001b[0;32m   1239\u001b[0m         \u001b[39mraise\u001b[39;00m \u001b[39mValueError\u001b[39;00m(\n\u001b[0;32m   1240\u001b[0m           \u001b[39m\"\u001b[39m\u001b[39mnon-zero flags not allowed in calls to recv_into() on \u001b[39m\u001b[39m%s\u001b[39;00m\u001b[39m\"\u001b[39m \u001b[39m%\u001b[39m\n\u001b[0;32m   1241\u001b[0m           \u001b[39mself\u001b[39m\u001b[39m.\u001b[39m\u001b[39m__class__\u001b[39m)\n\u001b[1;32m-> 1242\u001b[0m     \u001b[39mreturn\u001b[39;00m \u001b[39mself\u001b[39;49m\u001b[39m.\u001b[39;49mread(nbytes, buffer)\n\u001b[0;32m   1243\u001b[0m \u001b[39melse\u001b[39;00m:\n",
      "File \u001b[1;32mc:\\Users\\Chang\\miniconda3\\envs\\pyt201gpu\\lib\\ssl.py:1100\u001b[0m, in \u001b[0;36mSSLSocket.read\u001b[1;34m(self, len, buffer)\u001b[0m\n\u001b[0;32m   1099\u001b[0m \u001b[39mif\u001b[39;00m buffer \u001b[39mis\u001b[39;00m \u001b[39mnot\u001b[39;00m \u001b[39mNone\u001b[39;00m:\n\u001b[1;32m-> 1100\u001b[0m     \u001b[39mreturn\u001b[39;00m \u001b[39mself\u001b[39;49m\u001b[39m.\u001b[39;49m_sslobj\u001b[39m.\u001b[39;49mread(\u001b[39mlen\u001b[39;49m, buffer)\n\u001b[0;32m   1101\u001b[0m \u001b[39melse\u001b[39;00m:\n",
      "\u001b[1;31mConnectionResetError\u001b[0m: [WinError 10054] 远程主机强迫关闭了一个现有的连接。",
      "\nDuring handling of the above exception, another exception occurred:\n",
      "\u001b[1;31mProtocolError\u001b[0m                             Traceback (most recent call last)",
      "File \u001b[1;32mc:\\Users\\Chang\\miniconda3\\envs\\pyt201gpu\\lib\\site-packages\\requests\\models.py:816\u001b[0m, in \u001b[0;36mResponse.iter_content.<locals>.generate\u001b[1;34m()\u001b[0m\n\u001b[0;32m    815\u001b[0m \u001b[39mtry\u001b[39;00m:\n\u001b[1;32m--> 816\u001b[0m     \u001b[39myield from\u001b[39;00m \u001b[39mself\u001b[39m\u001b[39m.\u001b[39mraw\u001b[39m.\u001b[39mstream(chunk_size, decode_content\u001b[39m=\u001b[39m\u001b[39mTrue\u001b[39;00m)\n\u001b[0;32m    817\u001b[0m \u001b[39mexcept\u001b[39;00m ProtocolError \u001b[39mas\u001b[39;00m e:\n",
      "File \u001b[1;32mc:\\Users\\Chang\\miniconda3\\envs\\pyt201gpu\\lib\\site-packages\\urllib3\\response.py:628\u001b[0m, in \u001b[0;36mHTTPResponse.stream\u001b[1;34m(self, amt, decode_content)\u001b[0m\n\u001b[0;32m    627\u001b[0m \u001b[39mwhile\u001b[39;00m \u001b[39mnot\u001b[39;00m is_fp_closed(\u001b[39mself\u001b[39m\u001b[39m.\u001b[39m_fp):\n\u001b[1;32m--> 628\u001b[0m     data \u001b[39m=\u001b[39m \u001b[39mself\u001b[39;49m\u001b[39m.\u001b[39;49mread(amt\u001b[39m=\u001b[39;49mamt, decode_content\u001b[39m=\u001b[39;49mdecode_content)\n\u001b[0;32m    630\u001b[0m     \u001b[39mif\u001b[39;00m data:\n",
      "File \u001b[1;32mc:\\Users\\Chang\\miniconda3\\envs\\pyt201gpu\\lib\\site-packages\\urllib3\\response.py:593\u001b[0m, in \u001b[0;36mHTTPResponse.read\u001b[1;34m(self, amt, decode_content, cache_content)\u001b[0m\n\u001b[0;32m    584\u001b[0m             \u001b[39mif\u001b[39;00m \u001b[39mself\u001b[39m\u001b[39m.\u001b[39menforce_content_length \u001b[39mand\u001b[39;00m \u001b[39mself\u001b[39m\u001b[39m.\u001b[39mlength_remaining \u001b[39mnot\u001b[39;00m \u001b[39min\u001b[39;00m (\n\u001b[0;32m    585\u001b[0m                 \u001b[39m0\u001b[39m,\n\u001b[0;32m    586\u001b[0m                 \u001b[39mNone\u001b[39;00m,\n\u001b[1;32m   (...)\u001b[0m\n\u001b[0;32m    591\u001b[0m                 \u001b[39m# raised during streaming, so all calls with incorrect\u001b[39;00m\n\u001b[0;32m    592\u001b[0m                 \u001b[39m# Content-Length are caught.\u001b[39;00m\n\u001b[1;32m--> 593\u001b[0m                 \u001b[39mraise\u001b[39;00m IncompleteRead(\u001b[39mself\u001b[39m\u001b[39m.\u001b[39m_fp_bytes_read, \u001b[39mself\u001b[39m\u001b[39m.\u001b[39mlength_remaining)\n\u001b[0;32m    595\u001b[0m \u001b[39mif\u001b[39;00m data:\n",
      "File \u001b[1;32mc:\\Users\\Chang\\miniconda3\\envs\\pyt201gpu\\lib\\contextlib.py:137\u001b[0m, in \u001b[0;36m_GeneratorContextManager.__exit__\u001b[1;34m(self, typ, value, traceback)\u001b[0m\n\u001b[0;32m    136\u001b[0m \u001b[39mtry\u001b[39;00m:\n\u001b[1;32m--> 137\u001b[0m     \u001b[39mself\u001b[39;49m\u001b[39m.\u001b[39;49mgen\u001b[39m.\u001b[39;49mthrow(typ, value, traceback)\n\u001b[0;32m    138\u001b[0m \u001b[39mexcept\u001b[39;00m \u001b[39mStopIteration\u001b[39;00m \u001b[39mas\u001b[39;00m exc:\n\u001b[0;32m    139\u001b[0m     \u001b[39m# Suppress StopIteration *unless* it's the same exception that\u001b[39;00m\n\u001b[0;32m    140\u001b[0m     \u001b[39m# was passed to throw().  This prevents a StopIteration\u001b[39;00m\n\u001b[0;32m    141\u001b[0m     \u001b[39m# raised inside the \"with\" statement from being suppressed.\u001b[39;00m\n",
      "File \u001b[1;32mc:\\Users\\Chang\\miniconda3\\envs\\pyt201gpu\\lib\\site-packages\\urllib3\\response.py:461\u001b[0m, in \u001b[0;36mHTTPResponse._error_catcher\u001b[1;34m(self)\u001b[0m\n\u001b[0;32m    459\u001b[0m \u001b[39mexcept\u001b[39;00m (HTTPException, SocketError) \u001b[39mas\u001b[39;00m e:\n\u001b[0;32m    460\u001b[0m     \u001b[39m# This includes IncompleteRead.\u001b[39;00m\n\u001b[1;32m--> 461\u001b[0m     \u001b[39mraise\u001b[39;00m ProtocolError(\u001b[39m\"\u001b[39m\u001b[39mConnection broken: \u001b[39m\u001b[39m%r\u001b[39;00m\u001b[39m\"\u001b[39m \u001b[39m%\u001b[39m e, e)\n\u001b[0;32m    463\u001b[0m \u001b[39m# If no exception is thrown, we should avoid cleaning up\u001b[39;00m\n\u001b[0;32m    464\u001b[0m \u001b[39m# unnecessarily.\u001b[39;00m\n",
      "\u001b[1;31mProtocolError\u001b[0m: (\"Connection broken: ConnectionResetError(10054, '远程主机强迫关闭了一个现有的连接。', None, 10054, None)\", ConnectionResetError(10054, '远程主机强迫关闭了一个现有的连接。', None, 10054, None))",
      "\nDuring handling of the above exception, another exception occurred:\n",
      "\u001b[1;31mChunkedEncodingError\u001b[0m                      Traceback (most recent call last)",
      "\u001b[1;32mf:\\1. Yau2023\\HuntingAsteroid\\download.ipynb 单元格 12\u001b[0m line \u001b[0;36m2\n\u001b[0;32m     <a href='vscode-notebook-cell:/f%3A/1.%20Yau2023/HuntingAsteroid/download.ipynb#X14sZmlsZQ%3D%3D?line=22'>23</a>\u001b[0m     delete_dir(fileNameDelete)\n\u001b[0;32m     <a href='vscode-notebook-cell:/f%3A/1.%20Yau2023/HuntingAsteroid/download.ipynb#X14sZmlsZQ%3D%3D?line=24'>25</a>\u001b[0m \u001b[39m# Download FITS file, and get the path\u001b[39;00m\n\u001b[1;32m---> <a href='vscode-notebook-cell:/f%3A/1.%20Yau2023/HuntingAsteroid/download.ipynb#X14sZmlsZQ%3D%3D?line=25'>26</a>\u001b[0m path \u001b[39m=\u001b[39m download_file(obsID)\n\u001b[0;32m     <a href='vscode-notebook-cell:/f%3A/1.%20Yau2023/HuntingAsteroid/download.ipynb#X14sZmlsZQ%3D%3D?line=27'>28</a>\u001b[0m \u001b[39m# Check if the FITS file exists\u001b[39;00m\n\u001b[0;32m     <a href='vscode-notebook-cell:/f%3A/1.%20Yau2023/HuntingAsteroid/download.ipynb#X14sZmlsZQ%3D%3D?line=28'>29</a>\u001b[0m \u001b[39mif\u001b[39;00m os\u001b[39m.\u001b[39mpath\u001b[39m.\u001b[39mexists(path) \u001b[39m==\u001b[39m \u001b[39mFalse\u001b[39;00m:\n",
      "\u001b[1;32mf:\\1. Yau2023\\HuntingAsteroid\\download.ipynb 单元格 12\u001b[0m line \u001b[0;36m5\n\u001b[0;32m      <a href='vscode-notebook-cell:/f%3A/1.%20Yau2023/HuntingAsteroid/download.ipynb#X14sZmlsZQ%3D%3D?line=2'>3</a>\u001b[0m single_obs \u001b[39m=\u001b[39m Observations\u001b[39m.\u001b[39mquery_criteria(obs_id\u001b[39m=\u001b[39mobsID)\n\u001b[0;32m      <a href='vscode-notebook-cell:/f%3A/1.%20Yau2023/HuntingAsteroid/download.ipynb#X14sZmlsZQ%3D%3D?line=3'>4</a>\u001b[0m data_products \u001b[39m=\u001b[39m Observations\u001b[39m.\u001b[39mget_product_list(single_obs)\n\u001b[1;32m----> <a href='vscode-notebook-cell:/f%3A/1.%20Yau2023/HuntingAsteroid/download.ipynb#X14sZmlsZQ%3D%3D?line=4'>5</a>\u001b[0m manifest \u001b[39m=\u001b[39m Observations\u001b[39m.\u001b[39;49mdownload_products(data_products,\n\u001b[0;32m      <a href='vscode-notebook-cell:/f%3A/1.%20Yau2023/HuntingAsteroid/download.ipynb#X14sZmlsZQ%3D%3D?line=5'>6</a>\u001b[0m                                           obs_id \u001b[39m=\u001b[39;49m obsID,\n\u001b[0;32m      <a href='vscode-notebook-cell:/f%3A/1.%20Yau2023/HuntingAsteroid/download.ipynb#X14sZmlsZQ%3D%3D?line=6'>7</a>\u001b[0m                                           productSubGroupDescription \u001b[39m=\u001b[39;49m \u001b[39m'\u001b[39;49m\u001b[39mDRC\u001b[39;49m\u001b[39m'\u001b[39;49m,\n\u001b[0;32m      <a href='vscode-notebook-cell:/f%3A/1.%20Yau2023/HuntingAsteroid/download.ipynb#X14sZmlsZQ%3D%3D?line=7'>8</a>\u001b[0m                                           obs_collection \u001b[39m=\u001b[39;49m \u001b[39m'\u001b[39;49m\u001b[39mHST\u001b[39;49m\u001b[39m'\u001b[39;49m)\n\u001b[0;32m     <a href='vscode-notebook-cell:/f%3A/1.%20Yau2023/HuntingAsteroid/download.ipynb#X14sZmlsZQ%3D%3D?line=9'>10</a>\u001b[0m \u001b[39m# Generate the path for the FITS file\u001b[39;00m\n\u001b[0;32m     <a href='vscode-notebook-cell:/f%3A/1.%20Yau2023/HuntingAsteroid/download.ipynb#X14sZmlsZQ%3D%3D?line=10'>11</a>\u001b[0m path \u001b[39m=\u001b[39m \u001b[39m'\u001b[39m\u001b[39m.\u001b[39m\u001b[39m\\\u001b[39m\u001b[39mmastDownload\u001b[39m\u001b[39m\\\u001b[39m\u001b[39mHST\u001b[39m\u001b[39m\\\u001b[39m\u001b[39m{}\u001b[39;00m\u001b[39m'\u001b[39m\u001b[39m.\u001b[39mformat(obsID)\n",
      "File \u001b[1;32mc:\\Users\\Chang\\miniconda3\\envs\\pyt201gpu\\lib\\site-packages\\astroquery\\mast\\observations.py:734\u001b[0m, in \u001b[0;36mObservationsClass.download_products\u001b[1;34m(self, products, download_dir, cache, curl_flag, mrp_only, cloud_only, **filters)\u001b[0m\n\u001b[0;32m    732\u001b[0m \u001b[39melse\u001b[39;00m:\n\u001b[0;32m    733\u001b[0m     base_dir \u001b[39m=\u001b[39m download_dir\u001b[39m.\u001b[39mrstrip(\u001b[39m'\u001b[39m\u001b[39m/\u001b[39m\u001b[39m'\u001b[39m) \u001b[39m+\u001b[39m \u001b[39m\"\u001b[39m\u001b[39m/mastDownload\u001b[39m\u001b[39m\"\u001b[39m\n\u001b[1;32m--> 734\u001b[0m     manifest \u001b[39m=\u001b[39m \u001b[39mself\u001b[39;49m\u001b[39m.\u001b[39;49m_download_files(products,\n\u001b[0;32m    735\u001b[0m                                     base_dir\u001b[39m=\u001b[39;49mbase_dir,\n\u001b[0;32m    736\u001b[0m                                     cache\u001b[39m=\u001b[39;49mcache,\n\u001b[0;32m    737\u001b[0m                                     cloud_only\u001b[39m=\u001b[39;49mcloud_only)\n\u001b[0;32m    739\u001b[0m \u001b[39mreturn\u001b[39;00m manifest\n",
      "File \u001b[1;32mc:\\Users\\Chang\\miniconda3\\envs\\pyt201gpu\\lib\\site-packages\\astroquery\\mast\\observations.py:617\u001b[0m, in \u001b[0;36mObservationsClass._download_files\u001b[1;34m(self, products, base_dir, cache, cloud_only)\u001b[0m\n\u001b[0;32m    614\u001b[0m     local_path \u001b[39m=\u001b[39m os\u001b[39m.\u001b[39mpath\u001b[39m.\u001b[39mjoin(local_path, os\u001b[39m.\u001b[39mpath\u001b[39m.\u001b[39mbasename(data_product[\u001b[39m'\u001b[39m\u001b[39mproductFilename\u001b[39m\u001b[39m'\u001b[39m]))\n\u001b[0;32m    616\u001b[0m     \u001b[39m# download the files\u001b[39;00m\n\u001b[1;32m--> 617\u001b[0m     status, msg, url \u001b[39m=\u001b[39m \u001b[39mself\u001b[39;49m\u001b[39m.\u001b[39;49mdownload_file(data_product[\u001b[39m\"\u001b[39;49m\u001b[39mdataURI\u001b[39;49m\u001b[39m\"\u001b[39;49m], local_path\u001b[39m=\u001b[39;49mlocal_path,\n\u001b[0;32m    618\u001b[0m                                           cache\u001b[39m=\u001b[39;49mcache, cloud_only\u001b[39m=\u001b[39;49mcloud_only)\n\u001b[0;32m    620\u001b[0m     manifest_array\u001b[39m.\u001b[39mappend([local_path, status, msg, url])\n\u001b[0;32m    622\u001b[0m manifest \u001b[39m=\u001b[39m Table(rows\u001b[39m=\u001b[39mmanifest_array, names\u001b[39m=\u001b[39m(\u001b[39m'\u001b[39m\u001b[39mLocal Path\u001b[39m\u001b[39m'\u001b[39m, \u001b[39m'\u001b[39m\u001b[39mStatus\u001b[39m\u001b[39m'\u001b[39m, \u001b[39m'\u001b[39m\u001b[39mMessage\u001b[39m\u001b[39m'\u001b[39m, \u001b[39m\"\u001b[39m\u001b[39mURL\u001b[39m\u001b[39m\"\u001b[39m))\n",
      "File \u001b[1;32mc:\\Users\\Chang\\miniconda3\\envs\\pyt201gpu\\lib\\site-packages\\astroquery\\mast\\observations.py:568\u001b[0m, in \u001b[0;36mObservationsClass.download_file\u001b[1;34m(self, uri, local_path, base_url, cache, cloud_only)\u001b[0m\n\u001b[0;32m    565\u001b[0m             \u001b[39mself\u001b[39m\u001b[39m.\u001b[39m_download_file(data_url, local_path,\n\u001b[0;32m    566\u001b[0m                                 cache\u001b[39m=\u001b[39mcache, head_safe\u001b[39m=\u001b[39m\u001b[39mTrue\u001b[39;00m, continuation\u001b[39m=\u001b[39m\u001b[39mFalse\u001b[39;00m)\n\u001b[0;32m    567\u001b[0m \u001b[39melse\u001b[39;00m:\n\u001b[1;32m--> 568\u001b[0m     \u001b[39mself\u001b[39;49m\u001b[39m.\u001b[39;49m_download_file(data_url, local_path,\n\u001b[0;32m    569\u001b[0m                         cache\u001b[39m=\u001b[39;49mcache, head_safe\u001b[39m=\u001b[39;49m\u001b[39mTrue\u001b[39;49;00m, continuation\u001b[39m=\u001b[39;49m\u001b[39mFalse\u001b[39;49;00m)\n\u001b[0;32m    571\u001b[0m \u001b[39m# check if file exists also this is where would perform md5,\u001b[39;00m\n\u001b[0;32m    572\u001b[0m \u001b[39m# and also check the filesize if the database reliably reported file sizes\u001b[39;00m\n\u001b[0;32m    573\u001b[0m \u001b[39mif\u001b[39;00m (\u001b[39mnot\u001b[39;00m os\u001b[39m.\u001b[39mpath\u001b[39m.\u001b[39misfile(local_path)) \u001b[39mand\u001b[39;00m (status \u001b[39m!=\u001b[39m \u001b[39m\"\u001b[39m\u001b[39mSKIPPED\u001b[39m\u001b[39m\"\u001b[39m):\n",
      "File \u001b[1;32mc:\\Users\\Chang\\miniconda3\\envs\\pyt201gpu\\lib\\site-packages\\astroquery\\query.py:438\u001b[0m, in \u001b[0;36mBaseQuery._download_file\u001b[1;34m(self, url, local_filepath, timeout, auth, continuation, cache, method, head_safe, **kwargs)\u001b[0m\n\u001b[0;32m    435\u001b[0m \u001b[39mwith\u001b[39;00m ProgressBarOrSpinner(length, \u001b[39mf\u001b[39m\u001b[39m'\u001b[39m\u001b[39mDownloading URL \u001b[39m\u001b[39m{\u001b[39;00murl\u001b[39m}\u001b[39;00m\u001b[39m to \u001b[39m\u001b[39m{\u001b[39;00mlocal_filepath\u001b[39m}\u001b[39;00m\u001b[39m ...\u001b[39m\u001b[39m'\u001b[39m,\n\u001b[0;32m    436\u001b[0m                           file\u001b[39m=\u001b[39mprogress_stream) \u001b[39mas\u001b[39;00m pb:\n\u001b[0;32m    437\u001b[0m     \u001b[39mwith\u001b[39;00m \u001b[39mopen\u001b[39m(local_filepath, open_mode) \u001b[39mas\u001b[39;00m f:\n\u001b[1;32m--> 438\u001b[0m         \u001b[39mfor\u001b[39;00m block \u001b[39min\u001b[39;00m response\u001b[39m.\u001b[39miter_content(blocksize):\n\u001b[0;32m    439\u001b[0m             f\u001b[39m.\u001b[39mwrite(block)\n\u001b[0;32m    440\u001b[0m             bytes_read \u001b[39m+\u001b[39m\u001b[39m=\u001b[39m \u001b[39mlen\u001b[39m(block)\n",
      "File \u001b[1;32mc:\\Users\\Chang\\miniconda3\\envs\\pyt201gpu\\lib\\site-packages\\requests\\models.py:818\u001b[0m, in \u001b[0;36mResponse.iter_content.<locals>.generate\u001b[1;34m()\u001b[0m\n\u001b[0;32m    816\u001b[0m     \u001b[39myield from\u001b[39;00m \u001b[39mself\u001b[39m\u001b[39m.\u001b[39mraw\u001b[39m.\u001b[39mstream(chunk_size, decode_content\u001b[39m=\u001b[39m\u001b[39mTrue\u001b[39;00m)\n\u001b[0;32m    817\u001b[0m \u001b[39mexcept\u001b[39;00m ProtocolError \u001b[39mas\u001b[39;00m e:\n\u001b[1;32m--> 818\u001b[0m     \u001b[39mraise\u001b[39;00m ChunkedEncodingError(e)\n\u001b[0;32m    819\u001b[0m \u001b[39mexcept\u001b[39;00m DecodeError \u001b[39mas\u001b[39;00m e:\n\u001b[0;32m    820\u001b[0m     \u001b[39mraise\u001b[39;00m ContentDecodingError(e)\n",
      "\u001b[1;31mChunkedEncodingError\u001b[0m: (\"Connection broken: ConnectionResetError(10054, '远程主机强迫关闭了一个现有的连接。', None, 10054, None)\", ConnectionResetError(10054, '远程主机强迫关闭了一个现有的连接。', None, 10054, None))"
     ]
    },
    {
     "data": {
      "text/plain": [
       "<Figure size 640x480 with 0 Axes>"
      ]
     },
     "metadata": {},
     "output_type": "display_data"
    }
   ],
   "source": [
    "if __name__ == '__main__':\n",
    "    with open('tablea1.dat', 'r') as file:\n",
    "        lines = file.readlines()\n",
    "    file.close()\n",
    "        \n",
    "    # Generate a FileManager object, and configure the number of FITS file\n",
    "    # you want to store at one time on your disk\n",
    "    manager = FileManager(8)\n",
    "    \n",
    "    # Configure the number of start line (which is the index for file names)\n",
    "    index = 536\n",
    "    lines = lines[index:]\n",
    "    \n",
    "    for line in lines:\n",
    "        # Get the parameter (obsID and asteroid position)\n",
    "        obsID, ra1, dec1, ra2, dec2 = get_par(line, index)\n",
    "        \n",
    "        # Check which file to delete in this iteration\n",
    "        fileNameDelete = manager.update_list(obsID)\n",
    "        \n",
    "        # Delete the directory if expected\n",
    "        if fileNameDelete != 0:\n",
    "            delete_dir(fileNameDelete)\n",
    "        \n",
    "        # Download FITS file, and get the path\n",
    "        path = download_file(obsID)\n",
    "\n",
    "        # Check if the FITS file exists\n",
    "        if os.path.exists(path) == False:\n",
    "            print('Error: No file found for {}-{}'.format(index, obsID))\n",
    "            index += 1\n",
    "            continue\n",
    "        else:\n",
    "            fileName = os.listdir(path)[0]\n",
    "            path = '{}\\{}'.format(path, fileName)\n",
    "            \n",
    "        # Acquire the data, and convert the coordinate system for asteroid position\n",
    "        data, x1, y1, x2, y2 = convert_world2pix(path, ra1, dec1, ra2, dec2)\n",
    "        \n",
    "        # Save the data and position to .npz file\n",
    "        save_data(obsID, index, data, x1, y1, x2, y2)\n",
    "            \n",
    "        # Plot the data and save the figure to a jpg file\n",
    "        plot_data(data, obsID, index, x1, y1, x2, y2)\n",
    "        \n",
    "        # Finished!\n",
    "        print('{}-{} finished!'.format(index, obsID))\n",
    "        \n",
    "        # Increase the index by one\n",
    "        index += 1\n",
    "        \n",
    "        # Stop the code\n",
    "        if index > 1000:\n",
    "            break\n",
    "    "
   ]
  },
  {
   "cell_type": "code",
   "execution_count": null,
   "id": "f6de11e3",
   "metadata": {},
   "outputs": [],
   "source": [
    "def load_saved_data(path):\n",
    "    data = np.load(path)\n",
    "    matrix1_loaded = data['matrix1']\n",
    "    matrix2_loaded = data['matrix2']\n",
    "    \n",
    "    return matrix1_loaded, matrix2_loaded"
   ]
  },
  {
   "cell_type": "code",
   "execution_count": null,
   "id": "102a1cb3",
   "metadata": {},
   "outputs": [],
   "source": []
  }
 ],
 "metadata": {
  "kernelspec": {
   "display_name": "Python 3 (ipykernel)",
   "language": "python",
   "name": "python3"
  },
  "language_info": {
   "codemirror_mode": {
    "name": "ipython",
    "version": 3
   },
   "file_extension": ".py",
   "mimetype": "text/x-python",
   "name": "python",
   "nbconvert_exporter": "python",
   "pygments_lexer": "ipython3",
   "version": "3.9.17"
  }
 },
 "nbformat": 4,
 "nbformat_minor": 5
}
