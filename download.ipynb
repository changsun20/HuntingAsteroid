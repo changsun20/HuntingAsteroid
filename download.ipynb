{
 "cells": [
  {
   "cell_type": "code",
   "execution_count": 1,
   "id": "c1df9cb4",
   "metadata": {},
   "outputs": [],
   "source": [
    "import numpy as np\n",
    "from astropy.io import fits\n",
    "from astropy.wcs import WCS\n",
    "import matplotlib.pyplot as plt\n",
    "from astroquery.mast import Observations\n",
    "import getpass\n",
    "import os\n",
    "import shutil"
   ]
  },
  {
   "cell_type": "code",
   "execution_count": 2,
   "id": "a581fb98",
   "metadata": {},
   "outputs": [],
   "source": [
    "# read the FITS file, return the data and WCS object \n",
    "def read_fits(fileName):\n",
    "    hdulist = fits.open(fileName)\n",
    "    data = hdulist[1].data\n",
    "    wcs = WCS(hdulist[1].header)\n",
    "    hdulist.close()\n",
    "    \n",
    "    return data, wcs"
   ]
  },
  {
   "cell_type": "code",
   "execution_count": 3,
   "id": "80a0caf2",
   "metadata": {},
   "outputs": [],
   "source": [
    "# Get the parameter from each line of the tablea1.dat file\n",
    "def get_par(line, index):\n",
    "    obsID = line[8:17]\n",
    "    ra1 = float(line[103:114])\n",
    "    dec1 = float(line[115:126])\n",
    "    ra2 = float(line[127:138])\n",
    "    dec2 = float(line[139:150])\n",
    "    \n",
    "    print('{}-{}'.format(index, obsID))\n",
    "    return obsID, ra1, dec1, ra2, dec2"
   ]
  },
  {
   "cell_type": "code",
   "execution_count": 4,
   "id": "7a1a506f",
   "metadata": {},
   "outputs": [],
   "source": [
    "# Convert the position in the astronomy coordinate system to pixel position\n",
    "def convert_world2pix(path, ra1, dec1, ra2, dec2):\n",
    "    data, wcs = read_fits(path)\n",
    "\n",
    "    x1, y1 = wcs.all_world2pix(ra1, dec1, 1)\n",
    "    x2, y2 = wcs.all_world2pix(ra2, dec2, 1)\n",
    "\n",
    "    return data, x1, y1, x2, y2"
   ]
  },
  {
   "cell_type": "code",
   "execution_count": 5,
   "id": "10ea597e",
   "metadata": {},
   "outputs": [],
   "source": [
    "# Plot a draft of data, with red box pointing out the asteroid\n",
    "def plot_data(data, obsID, index, x1, y1, x2, y2):\n",
    "    plt.imshow(data, cmap='gray', vmin=0.0, vmax=0.01)\n",
    "    plt.plot([x1, x2], [y1, y1], 'r')\n",
    "    plt.plot([x1, x2], [y2, y2], 'r')\n",
    "    plt.plot([x1, x1], [y1, y2], 'r')\n",
    "    plt.plot([x2, x2], [y1, y2], 'r')\n",
    "    plt.colorbar()\n",
    "    plt.savefig('.\\pic\\{}-{}.jpg'.format(index, obsID), dpi = 300)\n",
    "    plt.clf()"
   ]
  },
  {
   "cell_type": "code",
   "execution_count": 6,
   "id": "79c13210",
   "metadata": {},
   "outputs": [],
   "source": [
    "# Connect the session to MAST API. Type in your token.\n",
    "def connect_session():\n",
    "    token = getpass.getpass('Enter your token:')\n",
    "    my_session = Observations.login(token=token)"
   ]
  },
  {
   "cell_type": "code",
   "execution_count": 7,
   "id": "c0ef59a9",
   "metadata": {},
   "outputs": [],
   "source": [
    "# Download file from MAST database\n",
    "def download_file(obsID):\n",
    "    single_obs = Observations.query_criteria(obs_id=obsID)\n",
    "    data_products = Observations.get_product_list(single_obs)\n",
    "    manifest = Observations.download_products(data_products,\n",
    "                                              obs_id = obsID,\n",
    "                                              productSubGroupDescription = 'DRC',\n",
    "                                              obs_collection = 'HST')\n",
    "    \n",
    "    # Generate the path for the FITS file\n",
    "    path = '.\\mastDownload\\HST\\{}'.format(obsID)\n",
    "    return path"
   ]
  },
  {
   "cell_type": "code",
   "execution_count": 8,
   "id": "59ea626f",
   "metadata": {},
   "outputs": [],
   "source": [
    "# Save the data and asteroid position into a npz file\n",
    "def save_data(obsID, index, data, x1, y1, x2, y2):\n",
    "    matrix2 = np.array([x1, y1, x2, y2])\n",
    "    dataPath = '.\\data\\{}-{}'.format(index, obsID)\n",
    "    np.savez(dataPath, matrix1=data, matrix2=matrix2)\n",
    "    print('Successfully save data for {}-{}'.format(index, obsID))\n",
    "    "
   ]
  },
  {
   "cell_type": "code",
   "execution_count": 9,
   "id": "4a835061",
   "metadata": {},
   "outputs": [],
   "source": [
    "# Sometimes there may be multiple asteroids in the same FITS file,\n",
    "# so we'd love to delete the FITS file several iterations after \n",
    "# the inital download.\n",
    "class FileManager:\n",
    "    def __init__(self, capacity):\n",
    "        self.list = []\n",
    "        self.capacity = capacity\n",
    "        \n",
    "    def update_list(self, nextID):\n",
    "        self.list.append(nextID)\n",
    "        if len(self.list) <= self.capacity:\n",
    "            return 0\n",
    "        else:\n",
    "            return self.list.pop(0)\n",
    "        \n",
    "    def get_list(self):\n",
    "        print(self.list)"
   ]
  },
  {
   "cell_type": "code",
   "execution_count": 10,
   "id": "2c8aa7e5",
   "metadata": {},
   "outputs": [],
   "source": [
    "# Delete the unwanted directory, if the directory still exists\n",
    "def delete_dir(fileNameDelete):\n",
    "    directory_path = '.\\mastDownload\\HST\\{}'.format(fileNameDelete)\n",
    "    print('Preparing to delete {}'.format(directory_path))\n",
    "    \n",
    "    if os.path.exists(directory_path):\n",
    "        shutil.rmtree(directory_path)\n",
    "        print(\"{} is deleted!\".format(directory_path))\n",
    "    else:\n",
    "        print(\"Warning: {} has already been deleted\".format(directory_path))"
   ]
  },
  {
   "cell_type": "code",
   "execution_count": 11,
   "id": "0c63e8c0",
   "metadata": {},
   "outputs": [],
   "source": [
    "def download_pipeline(start_index=0, end_index=10000):\n",
    "    with open('tablea1.dat', 'r') as file:\n",
    "        lines = file.readlines()\n",
    "    file.close()\n",
    "        \n",
    "    # Generate a FileManager object, and configure the number of FITS file\n",
    "    # you want to store at one time on your disk\n",
    "    manager = FileManager(8)\n",
    "    \n",
    "    # Configure the number of start line (which is the index for file names)\n",
    "    index = start_index\n",
    "    lines = lines[index:]\n",
    "    \n",
    "    for line in lines:\n",
    "        # Get the parameter (obsID and asteroid position)\n",
    "        obsID, ra1, dec1, ra2, dec2 = get_par(line, index)\n",
    "        \n",
    "        # Check which file to delete in this iteration\n",
    "        fileNameDelete = manager.update_list(obsID)\n",
    "        \n",
    "        # Delete the directory if expected\n",
    "        if fileNameDelete != 0:\n",
    "            delete_dir(fileNameDelete)\n",
    "        \n",
    "        # Download FITS file, and get the path\n",
    "        path = download_file(obsID)\n",
    "\n",
    "        # Check if the FITS file exists\n",
    "        if os.path.exists(path) == False:\n",
    "            print('Error: No file found for {}-{}'.format(index, obsID))\n",
    "            index += 1\n",
    "            continue\n",
    "        else:\n",
    "            fileName = os.listdir(path)[0]\n",
    "            path = '{}\\{}'.format(path, fileName)\n",
    "            \n",
    "        # Acquire the data, and convert the coordinate system for asteroid position\n",
    "        data, x1, y1, x2, y2 = convert_world2pix(path, ra1, dec1, ra2, dec2)\n",
    "        \n",
    "        # Save the data and position to .npz file\n",
    "        save_data(obsID, index, data, x1, y1, x2, y2)\n",
    "            \n",
    "        # Plot the data and save the figure to a jpg file\n",
    "        plot_data(data, obsID, index, x1, y1, x2, y2)\n",
    "        \n",
    "        # Finished!\n",
    "        print('{}-{} finished!'.format(index, obsID))\n",
    "        \n",
    "        # Increase the index by one\n",
    "        index += 1\n",
    "        \n",
    "        # Stop the code\n",
    "        if index > end_index:\n",
    "            break"
   ]
  },
  {
   "cell_type": "code",
   "execution_count": 12,
   "id": "037c5248",
   "metadata": {},
   "outputs": [
    {
     "name": "stdout",
     "output_type": "stream",
     "text": [
      "INFO: MAST API token accepted, welcome Chang Sun [astroquery.mast.auth]\n"
     ]
    }
   ],
   "source": [
    "connect_session()"
   ]
  },
  {
   "cell_type": "code",
   "execution_count": 13,
   "id": "70e7f972",
   "metadata": {},
   "outputs": [
    {
     "name": "stdout",
     "output_type": "stream",
     "text": [
      "1689-je2r81010\n",
      "Downloading URL https://mast.stsci.edu/api/v0.1/Download/file?uri=mast:HST/product/je2r81010_drc.fits to ./mastDownload\\HST\\je2r81010\\je2r81010_drc.fits ... [Done]\n",
      "Successfully save data for 1689-je2r81010\n",
      "1689-je2r81010 finished!\n",
      "1690-je4l02010\n",
      "Downloading URL https://mast.stsci.edu/api/v0.1/Download/file?uri=mast:HST/product/je4l02010_drc.fits to ./mastDownload\\HST\\je4l02010\\je4l02010_drc.fits ... [Done]\n",
      "Successfully save data for 1690-je4l02010\n",
      "1690-je4l02010 finished!\n",
      "1691-je4l02010\n",
      "INFO: Found cached file ./mastDownload\\HST\\je4l02010\\je4l02010_drc.fits with expected size 214804800. [astroquery.query]\n",
      "Successfully save data for 1691-je4l02010\n",
      "1691-je4l02010 finished!\n",
      "1692-je4l02020\n",
      "Downloading URL https://mast.stsci.edu/api/v0.1/Download/file?uri=mast:HST/product/je4l02020_drc.fits to ./mastDownload\\HST\\je4l02020\\je4l02020_drc.fits ... [Done]\n",
      "Successfully save data for 1692-je4l02020\n",
      "1692-je4l02020 finished!\n",
      "1693-je4l02020\n",
      "INFO: Found cached file ./mastDownload\\HST\\je4l02020\\je4l02020_drc.fits with expected size 214554240. [astroquery.query]\n",
      "Successfully save data for 1693-je4l02020\n",
      "1693-je4l02020 finished!\n",
      "1694-je4m16010\n",
      "Downloading URL https://mast.stsci.edu/api/v0.1/Download/file?uri=mast:HST/product/je4m16010_drc.fits to ./mastDownload\\HST\\je4m16010\\je4m16010_drc.fits ... [Done]\n",
      "Successfully save data for 1694-je4m16010\n",
      "1694-je4m16010 finished!\n",
      "1695-je4n0y010\n",
      "Downloading URL https://mast.stsci.edu/api/v0.1/Download/file?uri=mast:HST/product/je4n0y010_drc.fits to ./mastDownload\\HST\\je4n0y010\\je4n0y010_drc.fits ... [Done]\n",
      "Successfully save data for 1695-je4n0y010\n",
      "1695-je4n0y010 finished!\n",
      "1696-je5601020\n",
      "Downloading URL https://mast.stsci.edu/api/v0.1/Download/file?uri=mast:HST/product/je5601020_drc.fits to ./mastDownload\\HST\\je5601020\\je5601020_drc.fits ... [Done]\n",
      "Successfully save data for 1696-je5601020\n",
      "1696-je5601020 finished!\n",
      "1697-je5602010\n",
      "Preparing to delete .\\mastDownload\\HST\\je2r81010\n",
      ".\\mastDownload\\HST\\je2r81010 is deleted!\n",
      "Downloading URL https://mast.stsci.edu/api/v0.1/Download/file?uri=mast:HST/product/je5602010_drc.fits to ./mastDownload\\HST\\je5602010\\je5602010_drc.fits ... [Done]\n",
      "Successfully save data for 1697-je5602010\n",
      "1697-je5602010 finished!\n",
      "1698-je5602020\n",
      "Preparing to delete .\\mastDownload\\HST\\je4l02010\n",
      ".\\mastDownload\\HST\\je4l02010 is deleted!\n",
      "Downloading URL https://mast.stsci.edu/api/v0.1/Download/file?uri=mast:HST/product/je5602020_drc.fits to ./mastDownload\\HST\\je5602020\\je5602020_drc.fits ... [Done]\n",
      "Successfully save data for 1698-je5602020\n",
      "1698-je5602020 finished!\n",
      "1699-je5656010\n",
      "Preparing to delete .\\mastDownload\\HST\\je4l02010\n",
      "Warning: .\\mastDownload\\HST\\je4l02010 has already been deleted\n",
      "Downloading URL https://mast.stsci.edu/api/v0.1/Download/file?uri=mast:HST/product/je5656010_drc.fits to ./mastDownload\\HST\\je5656010\\je5656010_drc.fits ... [Done]\n",
      "Successfully save data for 1699-je5656010\n",
      "1699-je5656010 finished!\n",
      "1700-jecd64010\n",
      "Preparing to delete .\\mastDownload\\HST\\je4l02020\n",
      ".\\mastDownload\\HST\\je4l02020 is deleted!\n",
      "Downloading URL https://mast.stsci.edu/api/v0.1/Download/file?uri=mast:HST/product/jecd64010_drc.fits to ./mastDownload\\HST\\jecd64010\\jecd64010_drc.fits ... [Done]\n",
      "Successfully save data for 1700-jecd64010\n",
      "1700-jecd64010 finished!\n"
     ]
    },
    {
     "data": {
      "text/plain": [
       "<Figure size 640x480 with 0 Axes>"
      ]
     },
     "metadata": {},
     "output_type": "display_data"
    }
   ],
   "source": [
    "if __name__ == '__main__':\n",
    "    download_pipeline(start_index=1689, end_index=10000)"
   ]
  },
  {
   "cell_type": "code",
   "execution_count": null,
   "id": "da5a1bea",
   "metadata": {},
   "outputs": [],
   "source": []
  }
 ],
 "metadata": {
  "kernelspec": {
   "display_name": "Python 3 (ipykernel)",
   "language": "python",
   "name": "python3"
  },
  "language_info": {
   "codemirror_mode": {
    "name": "ipython",
    "version": 3
   },
   "file_extension": ".py",
   "mimetype": "text/x-python",
   "name": "python",
   "nbconvert_exporter": "python",
   "pygments_lexer": "ipython3",
   "version": "3.9.17"
  }
 },
 "nbformat": 4,
 "nbformat_minor": 5
}
