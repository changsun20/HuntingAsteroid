{
 "cells": [
  {
   "cell_type": "code",
   "execution_count": 1,
   "metadata": {},
   "outputs": [],
   "source": [
    "import numpy as np\n",
    "import matplotlib.pyplot as plt\n",
    "import random\n",
    "import preprocess as prep"
   ]
  },
  {
   "cell_type": "code",
   "execution_count": 2,
   "metadata": {},
   "outputs": [],
   "source": [
    "def corner_point(position):\n",
    "    x1, y1, x2, y2 = position\n",
    "    return int(min(x1, x2)), int(min(y1, y2))"
   ]
  },
  {
   "cell_type": "code",
   "execution_count": 3,
   "metadata": {},
   "outputs": [],
   "source": [
    "def data_refresh(data, x_final, y_final, window_shape_value):\n",
    "    data_refresh = data[y_final:y_final+window_shape_value, x_final:x_final+window_shape_value]\n",
    "    return data_refresh"
   ]
  },
  {
   "cell_type": "code",
   "execution_count": 4,
   "metadata": {},
   "outputs": [],
   "source": [
    "# Save the data and asteroid position into a npz file\n",
    "def save_data_negative(name, index, count, data, data_dir):\n",
    "    dataPath = '{}\\{}_{}'.format(data_dir, count, name)\n",
    "    np.savez(dataPath, matrix1=data)\n",
    "    print('Successfully save data for index:{} count:{} filename:{}'.format(index, count, name))"
   ]
  },
  {
   "cell_type": "code",
   "execution_count": 5,
   "metadata": {},
   "outputs": [],
   "source": [
    "def plot_data_negative(name, count, data, pic_dir): \n",
    "    plt.imshow(data, cmap='gray', vmin=0, vmax=0.01)\n",
    "    plt.colorbar()\n",
    "    plt.savefig('{}\\{}_{}.jpg'.format(pic_dir, count, name), dpi=300)\n",
    "    plt.clf()"
   ]
  },
  {
   "cell_type": "code",
   "execution_count": 6,
   "metadata": {},
   "outputs": [],
   "source": [
    "def generate_negative_data(father_dir, pic_dir, data_dir, start_index, end_index, window_shape_value=1000):\n",
    "    count = 0\n",
    "    \n",
    "    for index in range(start_index, end_index+1):\n",
    "        path, name = prep.path_of_data(father_dir, index)\n",
    "        print('Start preprocessing {}: {}'.format(index, name))\n",
    "        data, position = prep.load_saved_data(path)\n",
    "        data = np.nan_to_num(data)\n",
    "        x_corner, y_corner = corner_point(position)\n",
    "        if x_corner > window_shape_value and y_corner > window_shape_value:\n",
    "            for i in range(2):\n",
    "                x_final = random.randint(0, x_corner - window_shape_value)\n",
    "                y_final = random.randint(0, y_corner - window_shape_value)\n",
    "                data_new = data_refresh(data, x_final, y_final, window_shape_value)\n",
    "                save_data_negative(name, index, count, data_new, data_dir)\n",
    "                plot_data_negative(name, count, data_new, pic_dir)\n",
    "                count += 1"
   ]
  },
  {
   "cell_type": "code",
   "execution_count": 7,
   "metadata": {},
   "outputs": [
    {
     "name": "stdout",
     "output_type": "stream",
     "text": [
      "Start preprocessing 0: 0-ib1901010\n",
      "Successfully save data for index:0 count:0 filename:0-ib1901010\n",
      "Successfully save data for index:0 count:1 filename:0-ib1901010\n",
      "Start preprocessing 1: 1-ib2r03020\n",
      "Successfully save data for index:1 count:2 filename:1-ib2r03020\n",
      "Successfully save data for index:1 count:3 filename:1-ib2r03020\n"
     ]
    },
    {
     "data": {
      "text/plain": [
       "<Figure size 640x480 with 0 Axes>"
      ]
     },
     "metadata": {},
     "output_type": "display_data"
    }
   ],
   "source": [
    "if __name__ == '__main__':\n",
    "    generate_negative_data('.\\data', '.\\pic_negative', '.\\\\preprocess\\\\train\\\\negative', 0, 100, 1000)"
   ]
  },
  {
   "cell_type": "code",
   "execution_count": null,
   "metadata": {},
   "outputs": [],
   "source": []
  }
 ],
 "metadata": {
  "kernelspec": {
   "display_name": "pyt201gpu",
   "language": "python",
   "name": "python3"
  },
  "language_info": {
   "codemirror_mode": {
    "name": "ipython",
    "version": 3
   },
   "file_extension": ".py",
   "mimetype": "text/x-python",
   "name": "python",
   "nbconvert_exporter": "python",
   "pygments_lexer": "ipython3",
   "version": "3.9.17"
  },
  "orig_nbformat": 4
 },
 "nbformat": 4,
 "nbformat_minor": 2
}
