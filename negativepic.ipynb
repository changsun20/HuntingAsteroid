{
 "cells": [
  {
   "cell_type": "code",
   "execution_count": null,
   "metadata": {},
   "outputs": [],
   "source": [
    "import numpy as np\n",
    "import matplotlib.pyplot as plt\n",
    "import random\n",
    "import preprocess as prep\n",
    "import os\n",
    "import shutil"
   ]
  },
  {
   "cell_type": "code",
   "execution_count": null,
   "metadata": {},
   "outputs": [],
   "source": [
    "def corner_point(position):\n",
    "    x1, y1, x2, y2 = position\n",
    "    return int(min(x1, x2)), int(min(y1, y2))"
   ]
  },
  {
   "cell_type": "code",
   "execution_count": null,
   "metadata": {},
   "outputs": [],
   "source": [
    "def data_refresh(data, x_final, y_final, window_shape_value):\n",
    "    data_refresh = data[y_final:y_final+window_shape_value, x_final:x_final+window_shape_value]\n",
    "    return data_refresh"
   ]
  },
  {
   "cell_type": "code",
   "execution_count": null,
   "metadata": {},
   "outputs": [],
   "source": [
    "# Save the data and asteroid position into a npz file\n",
    "def save_data_negative(name, index, count, data, data_dir):\n",
    "    dataPath = '{}\\{}_{}'.format(data_dir, count, name)\n",
    "    np.savez(dataPath, matrix1=data)\n",
    "    print('Successfully save data for index:{} count:{} filename:{}'.format(index, count, name))"
   ]
  },
  {
   "cell_type": "code",
   "execution_count": null,
   "metadata": {},
   "outputs": [],
   "source": [
    "def plot_data_negative(name, count, data, pic_dir): \n",
    "    plt.imshow(data, cmap='gray', vmin=0, vmax=0.01)\n",
    "    plt.colorbar()\n",
    "    plt.savefig('{}\\{}_{}.jpg'.format(pic_dir, count, name), dpi=300)\n",
    "    plt.clf()"
   ]
  },
  {
   "cell_type": "code",
   "execution_count": null,
   "metadata": {},
   "outputs": [],
   "source": [
    "def generate_negative_data(father_dir, pic_dir, data_dir, start_index, end_index, window_shape_value=1000):\n",
    "    count = 0\n",
    "    \n",
    "    for index in range(start_index, end_index):\n",
    "        path, name = prep.path_of_data(father_dir, index)\n",
    "        print('Start preprocessing {}: {}'.format(index, name))\n",
    "        data, position = prep.load_saved_data(path)\n",
    "        data = np.nan_to_num(data)\n",
    "        x_corner, y_corner = corner_point(position)\n",
    "        if x_corner > window_shape_value+500 and y_corner > window_shape_value+500:\n",
    "            for i in range(2):\n",
    "                x_final = random.randint(0, x_corner - window_shape_value)\n",
    "                y_final = random.randint(0, y_corner - window_shape_value)\n",
    "                data_new = data_refresh(data, x_final, y_final, window_shape_value)\n",
    "                save_data_negative(name, index, count, data_new, data_dir)\n",
    "                plot_data_negative(name, count, data_new, pic_dir)\n",
    "                count += 1"
   ]
  },
  {
   "cell_type": "code",
   "execution_count": null,
   "metadata": {},
   "outputs": [],
   "source": [
    "def random_split(dir_train, dir_val):\n",
    "    fileList = os.listdir(dir_train)\n",
    "    for file in fileList:\n",
    "        train_file = os.path.join(dir_train, file)\n",
    "        val_file = os.path.join(dir_val, file)\n",
    "        if random.random() < 0.2:\n",
    "            shutil.move(train_file, val_file)\n",
    "            print('File move from {} to {}'.format(train_file, val_file))\n",
    "        else:\n",
    "            print('File does not move')"
   ]
  },
  {
   "cell_type": "code",
   "execution_count": null,
   "metadata": {},
   "outputs": [],
   "source": [
    "if __name__ == '__main__':\n",
    "    generate_negative_data('.\\data', '.\\pic_negative', '.\\\\preprocess\\\\train\\\\negative', 0, 200, 1000)\n",
    "    random_split('.\\\\preprocess\\\\train\\\\negative', '.\\\\preprocess\\\\val\\\\negative')"
   ]
  },
  {
   "cell_type": "code",
   "execution_count": null,
   "metadata": {},
   "outputs": [],
   "source": []
  }
 ],
 "metadata": {
  "kernelspec": {
   "display_name": "pyt201gpu",
   "language": "python",
   "name": "python3"
  },
  "language_info": {
   "codemirror_mode": {
    "name": "ipython",
    "version": 3
   },
   "file_extension": ".py",
   "mimetype": "text/x-python",
   "name": "python",
   "nbconvert_exporter": "python",
   "pygments_lexer": "ipython3",
   "version": "3.9.17"
  },
  "orig_nbformat": 4
 },
 "nbformat": 4,
 "nbformat_minor": 2
}
