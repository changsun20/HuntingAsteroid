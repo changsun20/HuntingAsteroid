{
 "cells": [
  {
   "cell_type": "code",
   "execution_count": 1,
   "metadata": {},
   "outputs": [],
   "source": [
    "import numpy as np\n",
    "import matplotlib.pyplot as plt\n",
    "import os\n",
    "import random\n",
    "import preprocess as prep"
   ]
  },
  {
   "cell_type": "code",
   "execution_count": null,
   "metadata": {},
   "outputs": [],
   "source": [
    "def corner_point(position):\n",
    "    x1, y1, x2, y2 = position\n",
    "    return min(x1, x2), min(y1, y2)"
   ]
  },
  {
   "cell_type": "code",
   "execution_count": null,
   "metadata": {},
   "outputs": [],
   "source": [
    "def generate_negative_data(father_dir, index, window_shape_value=1000):\n",
    "    count = 0\n",
    "    \n",
    "    for index in range(start_index, end_index+1):\n",
    "        path, name = prep.path_of_data(father_dir, index)\n",
    "        print('Start preprocessing {}: {}'.format(index, name))\n",
    "        data, position = prep.load_saved_data(path)\n",
    "        x_corner, y_corner = corner_point(position)\n",
    "        if x_corner > 1000 and y_corner > 1000:\n",
    "            x_final = random.randint(0, x_corner - window_shape_value)\n",
    "            y_final = random.randint(0, y_corner - window_shape_value)"
   ]
  }
 ],
 "metadata": {
  "kernelspec": {
   "display_name": "pyt201gpu",
   "language": "python",
   "name": "python3"
  },
  "language_info": {
   "codemirror_mode": {
    "name": "ipython",
    "version": 3
   },
   "file_extension": ".py",
   "mimetype": "text/x-python",
   "name": "python",
   "nbconvert_exporter": "python",
   "pygments_lexer": "ipython3",
   "version": "3.9.17"
  },
  "orig_nbformat": 4
 },
 "nbformat": 4,
 "nbformat_minor": 2
}
