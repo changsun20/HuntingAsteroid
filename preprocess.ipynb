{
 "cells": [
  {
   "cell_type": "code",
   "execution_count": 1,
   "metadata": {},
   "outputs": [],
   "source": [
    "import numpy as np\n",
    "import matplotlib.pyplot as plt\n",
    "import os\n",
    "import random"
   ]
  },
  {
   "cell_type": "code",
   "execution_count": 2,
   "metadata": {},
   "outputs": [],
   "source": [
    "def path_of_data(father_dir, index):\n",
    "    childDirList = os.listdir(father_dir)\n",
    "    path = '{}\\{}'.format(father_dir, childDirList[index])\n",
    "    name = childDirList[index][:-4]\n",
    "    return path, name"
   ]
  },
  {
   "cell_type": "code",
   "execution_count": 3,
   "metadata": {},
   "outputs": [],
   "source": [
    "def load_saved_data(path):\n",
    "    data = np.load(path)\n",
    "    image_data = data['matrix1']\n",
    "    position = data['matrix2']\n",
    "    \n",
    "    return image_data, position"
   ]
  },
  {
   "cell_type": "code",
   "execution_count": 4,
   "metadata": {},
   "outputs": [],
   "source": [
    "def find_center(position):\n",
    "    x1, y1, x2, y2 = position\n",
    "    center_position = (x1 + x2)/2, (y1 + y2)/2\n",
    "    return center_position"
   ]
  },
  {
   "cell_type": "code",
   "execution_count": 5,
   "metadata": {},
   "outputs": [],
   "source": [
    "def find_boundary(image_upper_limit, center_value, random_slide, window_shape_value):\n",
    "    lower_bound = min(max(0, center_value - window_shape_value/2 - random_slide), image_upper_limit - window_shape_value)\n",
    "    upper_bound = max(min(image_upper_limit, center_value + window_shape_value/2 + random_slide), window_shape_value)\n",
    "    return lower_bound, upper_bound - window_shape_value"
   ]
  },
  {
   "cell_type": "code",
   "execution_count": 6,
   "metadata": {},
   "outputs": [],
   "source": [
    "def random_pick_xy(image_shape, center_position, random_slide, window_shape_value):\n",
    "    x_center, y_center = center_position\n",
    "    x_center, y_center = int(x_center), int(y_center)\n",
    "    \n",
    "    x_bound = find_boundary(image_shape[1], x_center, random_slide, window_shape_value)\n",
    "    x_final = random.randint(int(x_bound[0]), int(x_bound[1]))\n",
    "    \n",
    "    y_bound = find_boundary(image_shape[0], y_center, random_slide, window_shape_value)\n",
    "    y_final = random.randint(int(y_bound[0]), int(y_bound[1]))\n",
    "    \n",
    "    return x_final, y_final"
   ]
  },
  {
   "cell_type": "code",
   "execution_count": 7,
   "metadata": {},
   "outputs": [],
   "source": [
    "def data_position_refresh(data, window_shape_value, position, window_position):\n",
    "    x_final, y_final = window_position\n",
    "    x1_original, y1_original, x2_original, y2_original = position\n",
    "    position_refresh = x1_original - x_final, y1_original - y_final, x2_original - x_final, y2_original - y_final\n",
    "    \n",
    "    data_refresh = data[y_final:y_final+window_shape_value, x_final:x_final+window_shape_value]\n",
    "    \n",
    "    return data_refresh, position_refresh"
   ]
  },
  {
   "cell_type": "code",
   "execution_count": 8,
   "metadata": {},
   "outputs": [],
   "source": [
    "def plot_data(name, data, box_position, pic_dir):\n",
    "    x1, y1, x2, y2 = box_position    \n",
    "    plt.imshow(data, cmap='gray', vmin=0, vmax=0.01)\n",
    "    plt.plot([x1, x2], [y1, y1], 'r')\n",
    "    plt.plot([x1, x2], [y2, y2], 'r')\n",
    "    plt.plot([x1, x1], [y1, y2], 'r')\n",
    "    plt.plot([x2, x2], [y1, y2], 'r')\n",
    "    plt.colorbar()\n",
    "    plt.savefig('{}\\{}.jpg'.format(pic_dir, name), dpi=300)\n",
    "    plt.clf()"
   ]
  },
  {
   "cell_type": "code",
   "execution_count": 9,
   "metadata": {},
   "outputs": [],
   "source": [
    "# Save the data and asteroid position into a npz file\n",
    "def save_data(name, index, data, position, data_dir):\n",
    "    matrix2 = np.array(position)\n",
    "    dataPath = '{}\\{}'.format(data_dir, name)\n",
    "    np.savez(dataPath, matrix1=data, matrix2=matrix2)\n",
    "    print('Successfully save data for {}: {}'.format(index, name))"
   ]
  },
  {
   "cell_type": "code",
   "execution_count": 10,
   "metadata": {},
   "outputs": [],
   "source": [
    "def preprocess(father_dir, pic_dir, data_dir, start_index, end_index, random_slide=300, window_shape_value=1000):\n",
    "    for index in range(start_index, end_index+1):\n",
    "        path, name = path_of_data(father_dir, index)\n",
    "        print('Start preprocessing {}: {}'.format(index, name))\n",
    "        data, position = load_saved_data(path)\n",
    "        data = np.nan_to_num(data)\n",
    "        image_shape = data.shape\n",
    "        center_position = find_center(position)\n",
    "        window_position = random_pick_xy(image_shape, center_position, random_slide, window_shape_value)\n",
    "        data_refresh, position_refresh = data_position_refresh(data, window_shape_value, position, window_position)\n",
    "        plot_data(name, data_refresh, position_refresh, pic_dir)\n",
    "        save_data(name, index, data_refresh, position_refresh, data_dir)"
   ]
  },
  {
   "cell_type": "code",
   "execution_count": 11,
   "metadata": {},
   "outputs": [
    {
     "name": "stdout",
     "output_type": "stream",
     "text": [
      "Start preprocessing 0: 0-ib1901010\n",
      "Successfully save data for 0: 0-ib1901010\n",
      "Start preprocessing 1: 1-ib2r03020\n",
      "Successfully save data for 1: 1-ib2r03020\n",
      "Start preprocessing 2: 10-ib4a28020\n",
      "Successfully save data for 2: 10-ib4a28020\n",
      "Start preprocessing 3: 100-ibug51010\n",
      "Successfully save data for 3: 100-ibug51010\n",
      "Start preprocessing 4: 101-iby102010\n",
      "Successfully save data for 4: 101-iby102010\n",
      "Start preprocessing 5: 102-ibyb02010\n",
      "Successfully save data for 5: 102-ibyb02010\n",
      "Start preprocessing 6: 103-ibyb02020\n",
      "Successfully save data for 6: 103-ibyb02020\n",
      "Start preprocessing 7: 104-ibyb22010\n",
      "Successfully save data for 7: 104-ibyb22010\n",
      "Start preprocessing 8: 105-ibyb22020\n",
      "Successfully save data for 8: 105-ibyb22020\n",
      "Start preprocessing 9: 106-ibyn04040\n",
      "Successfully save data for 9: 106-ibyn04040\n",
      "Start preprocessing 10: 107-ibyn04040\n",
      "Successfully save data for 10: 107-ibyn04040\n"
     ]
    },
    {
     "data": {
      "text/plain": [
       "<Figure size 640x480 with 0 Axes>"
      ]
     },
     "metadata": {},
     "output_type": "display_data"
    }
   ],
   "source": [
    "if __name__ == '__main__':\n",
    "    preprocess('.\\data', '.\\pic_positive', '.\\\\preprocess\\\\train\\\\positive', 0, 10, 300, 1000)"
   ]
  },
  {
   "cell_type": "code",
   "execution_count": null,
   "metadata": {},
   "outputs": [],
   "source": []
  }
 ],
 "metadata": {
  "kernelspec": {
   "display_name": "pyt201gpu",
   "language": "python",
   "name": "python3"
  },
  "language_info": {
   "codemirror_mode": {
    "name": "ipython",
    "version": 3
   },
   "file_extension": ".py",
   "mimetype": "text/x-python",
   "name": "python",
   "nbconvert_exporter": "python",
   "pygments_lexer": "ipython3",
   "version": "3.9.17"
  },
  "orig_nbformat": 4
 },
 "nbformat": 4,
 "nbformat_minor": 2
}
