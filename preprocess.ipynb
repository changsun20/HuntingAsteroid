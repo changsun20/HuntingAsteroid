{
 "cells": [
  {
   "cell_type": "code",
   "execution_count": 54,
   "metadata": {},
   "outputs": [],
   "source": [
    "import numpy as np\n",
    "from astropy.io import fits\n",
    "from astropy.wcs import WCS\n",
    "import matplotlib.pyplot as plt\n",
    "from astroquery.mast import Observations\n",
    "import getpass\n",
    "import os\n",
    "import shutil\n",
    "import random"
   ]
  },
  {
   "cell_type": "code",
   "execution_count": 1,
   "metadata": {},
   "outputs": [],
   "source": [
    "def load_saved_data(path):\n",
    "    data = np.load(path)\n",
    "    image_data = data['matrix1']\n",
    "    position = data['matrix2']\n",
    "    \n",
    "    return image_data, position"
   ]
  },
  {
   "cell_type": "code",
   "execution_count": 6,
   "metadata": {},
   "outputs": [],
   "source": [
    "a = np.array([1, 2, 3, 4])"
   ]
  },
  {
   "cell_type": "code",
   "execution_count": 7,
   "metadata": {},
   "outputs": [],
   "source": [
    "def find_center(position):\n",
    "    x1, y1, x2, y2 = position\n",
    "    center_position = (x1 + x2)/2, (y1 + y2)/2\n",
    "    return center_position"
   ]
  },
  {
   "cell_type": "code",
   "execution_count": 9,
   "metadata": {},
   "outputs": [
    {
     "data": {
      "text/plain": [
       "(2.0, 3.0)"
      ]
     },
     "execution_count": 9,
     "metadata": {},
     "output_type": "execute_result"
    }
   ],
   "source": [
    "find_center(a)"
   ]
  },
  {
   "cell_type": "code",
   "execution_count": 18,
   "metadata": {},
   "outputs": [],
   "source": [
    "def find_boundary(image_upper_limit, center_value, random_slide=300, window_value=1000):\n",
    "    lower_bound = min(max(0, center_value - window_value/2 - random_slide), 3000)\n",
    "    upper_bound = max(min(image_upper_limit, center_value + window_value/2 + random_slide), 1000)\n",
    "    return lower_bound, upper_bound - window_value"
   ]
  },
  {
   "cell_type": "code",
   "execution_count": 53,
   "metadata": {},
   "outputs": [
    {
     "data": {
      "text/plain": [
       "(300.0, 900.0)"
      ]
     },
     "execution_count": 53,
     "metadata": {},
     "output_type": "execute_result"
    }
   ],
   "source": [
    "find_boundary(4000, 1100, 300, 1000)"
   ]
  },
  {
   "cell_type": "code",
   "execution_count": 69,
   "metadata": {},
   "outputs": [
    {
     "name": "stdout",
     "output_type": "stream",
     "text": [
      "(0, 0)\n"
     ]
    },
    {
     "data": {
      "text/plain": [
       "(0, 0)"
      ]
     },
     "execution_count": 69,
     "metadata": {},
     "output_type": "execute_result"
    }
   ],
   "source": [
    "image_data = np.zeros((4000, 3000))\n",
    "random_pick(image_data, (100, 100))"
   ]
  },
  {
   "cell_type": "code",
   "execution_count": 70,
   "metadata": {},
   "outputs": [],
   "source": [
    "def random_pick(image_data, center_position, random_slide=300, window_value=1000):\n",
    "    image_size_x, image_size_y = image_data.shape\n",
    "    x_center, y_center = center_position\n",
    "    \n",
    "    x_bound = find_boundary(image_size_x, x_center, random_slide, window_value)\n",
    "    x_final = random.randint(x_bound[0], x_bound[1])\n",
    "    \n",
    "    y_bound = find_boundary(image_size_y, y_center, random_slide, window_value)\n",
    "    y_final = random.randint(y_bound[0], y_bound[1])\n",
    "    \n",
    "    return x_final, y_final"
   ]
  },
  {
   "cell_type": "code",
   "execution_count": null,
   "metadata": {},
   "outputs": [],
   "source": [
    "if __name__ == '__main__':\n",
    "    dataDirList = os.listdir(raw_data_directory)\n",
    "    for dir in dataDirList:\n",
    "        path = "
   ]
  },
  {
   "cell_type": "code",
   "execution_count": 71,
   "metadata": {},
   "outputs": [
    {
     "data": {
      "text/plain": [
       "['0-ib1901010.npz',\n",
       " '1-ib2r03020.npz',\n",
       " '10-ib4a28020.npz',\n",
       " '100-ibug51010.npz',\n",
       " '101-iby102010.npz',\n",
       " '102-ibyb02010.npz',\n",
       " '103-ibyb02020.npz',\n",
       " '104-ibyb22010.npz',\n",
       " '105-ibyb22020.npz',\n",
       " '106-ibyn04040.npz',\n",
       " '107-ibyn04040.npz',\n",
       " '108-ibyn04040.npz',\n",
       " '109-ibyn04050.npz',\n",
       " '11-ib5n44010.npz',\n",
       " '110-ibyq01030.npz',\n",
       " '111-ibyq01040.npz',\n",
       " '112-ibyq05040.npz',\n",
       " '113-ibyq05040.npz',\n",
       " '114-ibyq06030.npz',\n",
       " '115-ibyq06030.npz',\n",
       " '116-ibyq06040.npz',\n",
       " '117-ibyq06040.npz',\n",
       " '118-ibyq07030.npz',\n",
       " '119-ibyq07030.npz',\n",
       " '12-ib5t01020.npz',\n",
       " '120-ibyq07040.npz',\n",
       " '121-ibyq07040.npz',\n",
       " '122-ibyq08030.npz',\n",
       " '123-ibyq08040.npz',\n",
       " '124-ibyt14020.npz',\n",
       " '125-ibyt47020.npz',\n",
       " '126-ibzf06010.npz',\n",
       " '127-ibzrb3030.npz',\n",
       " '128-ic1112030.npz',\n",
       " '129-ic1116030.npz',\n",
       " '13-ib5t04020.npz',\n",
       " '130-ic130o010.npz',\n",
       " '131-ic130o020.npz',\n",
       " '132-ic1324010.npz',\n",
       " '133-ic1324020.npz',\n",
       " '134-ic1340010.npz',\n",
       " '135-ic1d13030.npz',\n",
       " '136-ic2i02030.npz',\n",
       " '137-ic2i09030.npz',\n",
       " '138-ic2i10040.npz',\n",
       " '139-ic2i15030.npz',\n",
       " '14-ib5t11020.npz',\n",
       " '140-ic2i22030.npz',\n",
       " '141-ic2i41030.npz',\n",
       " '142-ic2p010a0.npz',\n",
       " '143-ic2p54020.npz',\n",
       " '144-ic5f03010.npz',\n",
       " '145-ic7v02040.npz',\n",
       " '146-ic7v02040.npz',\n",
       " '147-ic7v07020.npz',\n",
       " '148-ic7v07020.npz',\n",
       " '149-ic7v07030.npz',\n",
       " '15-ib5t15020.npz',\n",
       " '150-ic7v07030.npz',\n",
       " '151-ic7v07030.npz',\n",
       " '152-ic8503010.npz',\n",
       " '153-ic8a10030.npz',\n",
       " '154-ic8a10040.npz',\n",
       " '155-ic8h03040.npz',\n",
       " '156-ic8h12030.npz',\n",
       " '16-ib6w37020.npz',\n",
       " '17-ib7g05010.npz',\n",
       " '18-ib7g05010.npz',\n",
       " '19-ib93d2010.npz',\n",
       " '2-ib4801010.npz',\n",
       " '20-ibci020f0.npz',\n",
       " '21-ibg808020.npz',\n",
       " '22-ibg808020.npz',\n",
       " '23-ibg808030.npz',\n",
       " '24-ibi705010.npz',\n",
       " '25-ibi901010.npz',\n",
       " '26-ibjc38030.npz',\n",
       " '27-ibjc43010.npz',\n",
       " '28-ibjc43010.npz',\n",
       " '29-ibjc43020.npz',\n",
       " '3-ib4803010.npz',\n",
       " '30-ibjc43020.npz',\n",
       " '31-ibjm02020.npz',\n",
       " '32-ibk322010.npz',\n",
       " '33-ibkl04030.npz',\n",
       " '34-ibkl04040.npz',\n",
       " '35-ibkl04040.npz',\n",
       " '36-ibkx01030.npz',\n",
       " '37-ibl70b020.npz',\n",
       " '38-ibl71n020.npz',\n",
       " '39-ibl72u020.npz',\n",
       " '4-ib4803020.npz',\n",
       " '40-ibl758010.npz',\n",
       " '41-ibl764010.npz',\n",
       " '42-ibl767010.npz',\n",
       " '43-ibl79i010.npz',\n",
       " '44-ibl79i010.npz',\n",
       " '45-ibl79j010.npz',\n",
       " '46-ibl79j010.npz',\n",
       " '47-ibl79j010.npz',\n",
       " '48-ibl79k010.npz',\n",
       " '49-ibl7a4020.npz',\n",
       " '5-ib4a28010.npz',\n",
       " '50-ibl7ad010.npz',\n",
       " '51-ibm002030.npz',\n",
       " '52-ibpb63020.npz',\n",
       " '53-ibpb63020.npz',\n",
       " '54-ibpb64020.npz',\n",
       " '55-ibpb64020.npz',\n",
       " '56-ibpb65020.npz',\n",
       " '57-ibpb65020.npz',\n",
       " '58-ibpb65020.npz',\n",
       " '59-ibpb65020.npz',\n",
       " '6-ib4a28010.npz',\n",
       " '60-ibpb66020.npz',\n",
       " '61-ibpb66020.npz',\n",
       " '62-ibpb67020.npz',\n",
       " '63-ibpb67020.npz',\n",
       " '64-ibpb76020.npz',\n",
       " '65-ibpk05030.npz',\n",
       " '66-ibpk05030.npz',\n",
       " '67-ibpl15020.npz',\n",
       " '68-ibq905030.npz',\n",
       " '69-ibru06030.npz',\n",
       " '7-ib4a28010.npz',\n",
       " '70-ibs316010.npz',\n",
       " '71-ibs318020.npz',\n",
       " '72-ibs318040.npz',\n",
       " '73-ibs319010.npz',\n",
       " '74-ibs319020.npz',\n",
       " '75-ibs319030.npz',\n",
       " '76-ibs328010.npz',\n",
       " '77-ibs328030.npz',\n",
       " '78-ibs328040.npz',\n",
       " '79-ibs347020.npz',\n",
       " '8-ib4a28020.npz',\n",
       " '80-ibs347030.npz',\n",
       " '81-ibs347040.npz',\n",
       " '82-ibsi04020.npz',\n",
       " '83-ibsp01010.npz',\n",
       " '84-ibsp05010.npz',\n",
       " '85-ibsp09010.npz',\n",
       " '86-ibsr05020.npz',\n",
       " '87-ibsr05020.npz',\n",
       " '88-ibsr05030.npz',\n",
       " '89-ibsr05030.npz',\n",
       " '9-ib4a28020.npz',\n",
       " '90-ibt005010.npz',\n",
       " '91-ibt005010.npz',\n",
       " '92-ibt006010.npz',\n",
       " '93-ibt008010.npz',\n",
       " '94-ibt008010.npz',\n",
       " '95-ibt008010.npz',\n",
       " '96-ibt013010.npz',\n",
       " '97-ibt013020.npz',\n",
       " '98-ibug1b010.npz',\n",
       " '99-ibug51010.npz']"
      ]
     },
     "execution_count": 71,
     "metadata": {},
     "output_type": "execute_result"
    }
   ],
   "source": [
    "dataDirList = os.listdir('.\\data')\n",
    "dataDirList"
   ]
  },
  {
   "cell_type": "code",
   "execution_count": null,
   "metadata": {},
   "outputs": [],
   "source": []
  }
 ],
 "metadata": {
  "kernelspec": {
   "display_name": "pyt201gpu",
   "language": "python",
   "name": "python3"
  },
  "language_info": {
   "codemirror_mode": {
    "name": "ipython",
    "version": 3
   },
   "file_extension": ".py",
   "mimetype": "text/x-python",
   "name": "python",
   "nbconvert_exporter": "python",
   "pygments_lexer": "ipython3",
   "version": "3.9.17"
  },
  "orig_nbformat": 4
 },
 "nbformat": 4,
 "nbformat_minor": 2
}
