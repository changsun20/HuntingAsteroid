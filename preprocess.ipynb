{
 "cells": [
  {
   "cell_type": "code",
   "execution_count": null,
   "metadata": {},
   "outputs": [],
   "source": [
    "import numpy as np\n",
    "from astropy.io import fits\n",
    "from astropy.wcs import WCS\n",
    "import matplotlib.pyplot as plt\n",
    "from astroquery.mast import Observations\n",
    "import getpass\n",
    "import os\n",
    "import shutil\n",
    "import random\n",
    "import download"
   ]
  },
  {
   "cell_type": "code",
   "execution_count": null,
   "metadata": {},
   "outputs": [],
   "source": [
    "def load_saved_data(path):\n",
    "    data = np.load(path)\n",
    "    image_data = data['matrix1']\n",
    "    position = data['matrix2']\n",
    "    \n",
    "    return image_data, position"
   ]
  },
  {
   "cell_type": "code",
   "execution_count": null,
   "metadata": {},
   "outputs": [],
   "source": [
    "a = np.array([1, 2, 3, 4])"
   ]
  },
  {
   "cell_type": "code",
   "execution_count": null,
   "metadata": {},
   "outputs": [],
   "source": [
    "def find_center(position):\n",
    "    x1, y1, x2, y2 = position\n",
    "    center_position = (x1 + x2)/2, (y1 + y2)/2\n",
    "    return center_position"
   ]
  },
  {
   "cell_type": "code",
   "execution_count": null,
   "metadata": {},
   "outputs": [],
   "source": [
    "find_center(a)"
   ]
  },
  {
   "cell_type": "code",
   "execution_count": null,
   "metadata": {},
   "outputs": [],
   "source": [
    "def find_boundary(image_upper_limit, center_value, random_slide=300, window_shape_value=1000):\n",
    "    lower_bound = min(max(0, center_value - window_shape_value/2 - random_slide), image_upper_limit - window_shape_value)\n",
    "    upper_bound = max(min(image_upper_limit, center_value + window_shape_value/2 + random_slide), window_shape_value)\n",
    "    return lower_bound, upper_bound - window_shape_value"
   ]
  },
  {
   "cell_type": "code",
   "execution_count": null,
   "metadata": {},
   "outputs": [],
   "source": [
    "find_boundary(4000, 900, 300, 1000)"
   ]
  },
  {
   "cell_type": "code",
   "execution_count": null,
   "metadata": {},
   "outputs": [],
   "source": [
    "image_data = np.zeros((4000, 3000))\n",
    "random_pick(image_data, (100, 100))"
   ]
  },
  {
   "cell_type": "code",
   "execution_count": null,
   "metadata": {},
   "outputs": [],
   "source": [
    "def random_pick_xy(image_shape, center_position, random_slide=300, window_shape_value=1000):\n",
    "    x_center, y_center = center_position\n",
    "    \n",
    "    x_bound = find_boundary(image_shape[0], x_center, random_slide, window_shape_value)\n",
    "    x_final = random.randint(x_bound[0], x_bound[1])\n",
    "    \n",
    "    y_bound = find_boundary(image_shape[1], y_center, random_slide, window_shape_value)\n",
    "    y_final = random.randint(y_bound[0], y_bound[1])\n",
    "    \n",
    "    return x_final, y_final"
   ]
  },
  {
   "cell_type": "code",
   "execution_count": null,
   "metadata": {},
   "outputs": [],
   "source": [
    "def path_of_data(father_dir, index):\n",
    "    childDirList = os.listdir(father_dir)\n",
    "    path = '{}\\{}'.format(father_dir, childDirList[index])\n",
    "    return path"
   ]
  },
  {
   "cell_type": "code",
   "execution_count": null,
   "metadata": {},
   "outputs": [],
   "source": [
    "if __name__ == '__main__':\n",
    "    pass"
   ]
  },
  {
   "cell_type": "code",
   "execution_count": null,
   "metadata": {},
   "outputs": [],
   "source": [
    "dataDirList = os.listdir('.\\data')\n",
    "dataDirList"
   ]
  },
  {
   "cell_type": "code",
   "execution_count": null,
   "metadata": {},
   "outputs": [],
   "source": [
    "path_of_data('.\\data', 3)"
   ]
  },
  {
   "cell_type": "code",
   "execution_count": null,
   "metadata": {},
   "outputs": [],
   "source": [
    "def relocate_critical_point(position, image_shape, window_shape_value=1000, ):\n",
    "    x_side, y_side = image_shape\n",
    "    x1_original, y1_original, x2_original, y2_original = position"
   ]
  }
 ],
 "metadata": {
  "kernelspec": {
   "display_name": "pyt201gpu",
   "language": "python",
   "name": "python3"
  },
  "language_info": {
   "codemirror_mode": {
    "name": "ipython",
    "version": 3
   },
   "file_extension": ".py",
   "mimetype": "text/x-python",
   "name": "python",
   "nbconvert_exporter": "python",
   "pygments_lexer": "ipython3",
   "version": "3.9.17"
  },
  "orig_nbformat": 4
 },
 "nbformat": 4,
 "nbformat_minor": 2
}
